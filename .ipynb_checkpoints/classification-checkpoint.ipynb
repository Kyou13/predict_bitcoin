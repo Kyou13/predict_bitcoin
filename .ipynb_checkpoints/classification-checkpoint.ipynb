{
 "cells": [
  {
   "cell_type": "code",
   "execution_count": 2,
   "metadata": {
    "collapsed": true
   },
   "outputs": [],
   "source": [
    "# -*- coding:utf-8 -*-\n",
    "import poloniex\n",
    "import time\n",
    "import json\n",
    "\n",
    "# poloniex API\n",
    "polo = poloniex.Poloniex()\n",
    "# 2017/12/12 AM 12:00 @JP\n",
    "unix_time = 1514646000\n",
    "\n",
    "#4h間隔で過去180日分 UNIX時間で取得  #14400\n",
    "chart_data_btc = polo.returnChartData('USDT_BTC', period=1800, start=unix_time-polo.DAY*180, end=unix_time)\n",
    "chart_data_eth = polo.returnChartData('USDT_ETH', period=1800, start=unix_time-polo.DAY*180, end=unix_time)\n"
   ]
  },
  {
   "cell_type": "code",
   "execution_count": 3,
   "metadata": {},
   "outputs": [
    {
     "data": {
      "text/html": [
       "<div>\n",
       "<style>\n",
       "    .dataframe thead tr:only-child th {\n",
       "        text-align: right;\n",
       "    }\n",
       "\n",
       "    .dataframe thead th {\n",
       "        text-align: left;\n",
       "    }\n",
       "\n",
       "    .dataframe tbody tr th {\n",
       "        vertical-align: top;\n",
       "    }\n",
       "</style>\n",
       "<table border=\"1\" class=\"dataframe\">\n",
       "  <thead>\n",
       "    <tr style=\"text-align: right;\">\n",
       "      <th></th>\n",
       "      <th>close</th>\n",
       "      <th>date</th>\n",
       "      <th>high</th>\n",
       "      <th>low</th>\n",
       "      <th>open</th>\n",
       "      <th>quoteVolume</th>\n",
       "      <th>volume</th>\n",
       "      <th>weightedAverage</th>\n",
       "    </tr>\n",
       "  </thead>\n",
       "  <tbody>\n",
       "    <tr>\n",
       "      <th>8631</th>\n",
       "      <td>12911.32692521</td>\n",
       "      <td>1514629800</td>\n",
       "      <td>13099.84257298</td>\n",
       "      <td>12800</td>\n",
       "      <td>12864.64912148</td>\n",
       "      <td>217.22647059</td>\n",
       "      <td>2819431.476574</td>\n",
       "      <td>12979.22609945</td>\n",
       "    </tr>\n",
       "    <tr>\n",
       "      <th>8632</th>\n",
       "      <td>13118.00000204</td>\n",
       "      <td>1514631600</td>\n",
       "      <td>13236.37827405</td>\n",
       "      <td>12800.989</td>\n",
       "      <td>12920.8733577</td>\n",
       "      <td>127.66632019</td>\n",
       "      <td>1666040.0808439</td>\n",
       "      <td>13049.95772075</td>\n",
       "    </tr>\n",
       "    <tr>\n",
       "      <th>8633</th>\n",
       "      <td>13154.86175661</td>\n",
       "      <td>1514633400</td>\n",
       "      <td>13199.99999999</td>\n",
       "      <td>13032.99999999</td>\n",
       "      <td>13118.00000207</td>\n",
       "      <td>85.35921804</td>\n",
       "      <td>1121476.468819</td>\n",
       "      <td>13138.31703909</td>\n",
       "    </tr>\n",
       "    <tr>\n",
       "      <th>8634</th>\n",
       "      <td>12829.05888498</td>\n",
       "      <td>1514635200</td>\n",
       "      <td>13183.34433578</td>\n",
       "      <td>12750</td>\n",
       "      <td>13154.86175664</td>\n",
       "      <td>286.80356893</td>\n",
       "      <td>3689396.3512835</td>\n",
       "      <td>12863.84393697</td>\n",
       "    </tr>\n",
       "    <tr>\n",
       "      <th>8635</th>\n",
       "      <td>12510.59512917</td>\n",
       "      <td>1514637000</td>\n",
       "      <td>12829.05888496</td>\n",
       "      <td>12326.00100001</td>\n",
       "      <td>12829.05888494</td>\n",
       "      <td>459.50934795</td>\n",
       "      <td>5748293.7782511</td>\n",
       "      <td>12509.63403442</td>\n",
       "    </tr>\n",
       "    <tr>\n",
       "      <th>8636</th>\n",
       "      <td>12134.60110314</td>\n",
       "      <td>1514638800</td>\n",
       "      <td>12545</td>\n",
       "      <td>11855</td>\n",
       "      <td>12510.59512921</td>\n",
       "      <td>749.23015729</td>\n",
       "      <td>9080794.3687079</td>\n",
       "      <td>12120.1666542</td>\n",
       "    </tr>\n",
       "    <tr>\n",
       "      <th>8637</th>\n",
       "      <td>12321.58013364</td>\n",
       "      <td>1514640600</td>\n",
       "      <td>12425.14591135</td>\n",
       "      <td>12001</td>\n",
       "      <td>12193.54982702</td>\n",
       "      <td>307.76545967</td>\n",
       "      <td>3772743.2298264</td>\n",
       "      <td>12258.50111273</td>\n",
       "    </tr>\n",
       "    <tr>\n",
       "      <th>8638</th>\n",
       "      <td>12158.49021791</td>\n",
       "      <td>1514642400</td>\n",
       "      <td>12600</td>\n",
       "      <td>12156.07143669</td>\n",
       "      <td>12335.99999993</td>\n",
       "      <td>327.51571832</td>\n",
       "      <td>4062792.5507254</td>\n",
       "      <td>12404.87806681</td>\n",
       "    </tr>\n",
       "    <tr>\n",
       "      <th>8639</th>\n",
       "      <td>12275.88607229</td>\n",
       "      <td>1514644200</td>\n",
       "      <td>12387.3154709</td>\n",
       "      <td>11922</td>\n",
       "      <td>12158.49021789</td>\n",
       "      <td>389.88321872</td>\n",
       "      <td>4708832.7799357</td>\n",
       "      <td>12077.54669563</td>\n",
       "    </tr>\n",
       "    <tr>\n",
       "      <th>8640</th>\n",
       "      <td>12350</td>\n",
       "      <td>1514646000</td>\n",
       "      <td>12498</td>\n",
       "      <td>12209.79105529</td>\n",
       "      <td>12285.59749515</td>\n",
       "      <td>166.61063278</td>\n",
       "      <td>2054090.6672983</td>\n",
       "      <td>12328.68894994</td>\n",
       "    </tr>\n",
       "  </tbody>\n",
       "</table>\n",
       "</div>"
      ],
      "text/plain": [
       "               close        date            high             low  \\\n",
       "8631  12911.32692521  1514629800  13099.84257298           12800   \n",
       "8632  13118.00000204  1514631600  13236.37827405       12800.989   \n",
       "8633  13154.86175661  1514633400  13199.99999999  13032.99999999   \n",
       "8634  12829.05888498  1514635200  13183.34433578           12750   \n",
       "8635  12510.59512917  1514637000  12829.05888496  12326.00100001   \n",
       "8636  12134.60110314  1514638800           12545           11855   \n",
       "8637  12321.58013364  1514640600  12425.14591135           12001   \n",
       "8638  12158.49021791  1514642400           12600  12156.07143669   \n",
       "8639  12275.88607229  1514644200   12387.3154709           11922   \n",
       "8640           12350  1514646000           12498  12209.79105529   \n",
       "\n",
       "                open   quoteVolume           volume weightedAverage  \n",
       "8631  12864.64912148  217.22647059   2819431.476574  12979.22609945  \n",
       "8632   12920.8733577  127.66632019  1666040.0808439  13049.95772075  \n",
       "8633  13118.00000207   85.35921804   1121476.468819  13138.31703909  \n",
       "8634  13154.86175664  286.80356893  3689396.3512835  12863.84393697  \n",
       "8635  12829.05888494  459.50934795  5748293.7782511  12509.63403442  \n",
       "8636  12510.59512921  749.23015729  9080794.3687079   12120.1666542  \n",
       "8637  12193.54982702  307.76545967  3772743.2298264  12258.50111273  \n",
       "8638  12335.99999993  327.51571832  4062792.5507254  12404.87806681  \n",
       "8639  12158.49021789  389.88321872  4708832.7799357  12077.54669563  \n",
       "8640  12285.59749515  166.61063278  2054090.6672983  12328.68894994  "
      ]
     },
     "execution_count": 3,
     "metadata": {},
     "output_type": "execute_result"
    }
   ],
   "source": [
    "import pandas as pd\n",
    "\n",
    "# DataFrameに変換\n",
    "df_btc = pd.DataFrame(chart_data_btc)\n",
    "df_btc.tail(10)"
   ]
  },
  {
   "cell_type": "code",
   "execution_count": 4,
   "metadata": {
    "collapsed": true
   },
   "outputs": [],
   "source": [
    "import numpy as np\n",
    "from sklearn.preprocessing import MinMaxScaler\n",
    "np.random.seed(1)\n",
    "\n",
    "# 正規化\n",
    "data_btc_ = pd.DataFrame([float(i.get('close')) for i in chart_data_btc])\n",
    "mss = MinMaxScaler()\n",
    "data_btc = pd.DataFrame(mss.fit_transform(data_btc_))"
   ]
  },
  {
   "cell_type": "code",
   "execution_count": 5,
   "metadata": {
    "collapsed": true
   },
   "outputs": [],
   "source": [
    "data_btc = np.array(data_btc.astype(np.float32))\n",
    "data_btc_log = np.log(data_btc_)\n",
    "data_btc_log = np.array(data_btc_log)"
   ]
  },
  {
   "cell_type": "code",
   "execution_count": 6,
   "metadata": {},
   "outputs": [
    {
     "data": {
      "image/png": "[encoded data removed]",
      "text/plain": [
       "<matplotlib.figure.Figure at 0x119e04e10>"
      ]
     },
     "metadata": {},
     "output_type": "display_data"
    }
   ],
   "source": [
    "from matplotlib.pylab import rcParams\n",
    "import seaborn as sns\n",
    "rcParams['figure.figsize'] = 15, 6\n",
    "import matplotlib.pyplot as plt\n",
    "\n",
    "#前日との差\n",
    "diff_btc = data_btc_log[1:] - data_btc_log[:-1]\n",
    "diff_btc *= 100\n",
    "sns.distplot(diff_btc, bins=300, kde=False)\n",
    "plt.show()"
   ]
  },
  {
   "cell_type": "code",
   "execution_count": 7,
   "metadata": {},
   "outputs": [
    {
     "name": "stdout",
     "output_type": "stream",
     "text": [
      "0.018295195489706678\n",
      "前日比\n",
      "標準偏差[%]:100.98\n",
      "標準偏差[%]:0.98\n",
      "平均[%]:0.02\n"
     ]
    }
   ],
   "source": [
    "# 標準偏差\n",
    "diff_std = np.std(diff_btc)\n",
    "diff_avg = np.average(diff_btc)\n",
    "print(diff_avg)\n",
    "\n",
    "print(\"前日比\")\n",
    "print(\"標準偏差[%]:{:.2f}\".format(np.exp(diff_std/100)*100))\n",
    "print(\"標準偏差[%]:{:.2f}\".format(diff_std))\n",
    "print(\"平均[%]:{:.2f}\".format(diff_avg))"
   ]
  },
  {
   "cell_type": "code",
   "execution_count": 8,
   "metadata": {},
   "outputs": [
    {
     "data": {
      "text/plain": [
       "array([[0.0384016 ],\n",
       "       [0.03960687],\n",
       "       [0.03780833],\n",
       "       ...,\n",
       "       [0.57360256],\n",
       "       [0.5801361 ],\n",
       "       [0.5842609 ]], dtype=float32)"
      ]
     },
     "execution_count": 8,
     "metadata": {},
     "output_type": "execute_result"
    }
   ],
   "source": [
    "data_btc"
   ]
  },
  {
   "cell_type": "code",
   "execution_count": 9,
   "metadata": {
    "collapsed": true
   },
   "outputs": [],
   "source": [
    "# onehotラベル生成　\n",
    "_t_btc = np.empty((len(data_btc),4),dtype=np.float64)\n",
    "# とりあえず閾値は1sigma\n",
    "thresh = diff_std\n",
    "\n",
    "# 棒グラフ用配列\n",
    "bar_diff_btc = np.zeros(4)\n",
    "\n",
    "for i in range(1,len(data_btc)):\n",
    "    # めっちゃ上がる\n",
    "    if diff_btc[i-1] >= thresh:  \n",
    "        _t_btc[i] = np.array([1,0,0,0])\n",
    "        bar_diff_btc[0] = bar_diff_btc[0] + 1\n",
    "    # 上がる\n",
    "    elif diff_btc[i-1] >= 0 and diff_btc[i-1] < thresh: \n",
    "        _t_btc[i] = np.array([0,1,0,0])\n",
    "        bar_diff_btc[1] = bar_diff_btc[1] + 1\n",
    "    # 下がる\n",
    "    elif diff_btc[i-1] >= -thresh and  diff_btc[i-1] < 0: \n",
    "        _t_btc[i] = np.array([0,0,1,0])\n",
    "        bar_diff_btc[2] = bar_diff_btc[2] + 1\n",
    "    # めっちゃ下がる\n",
    "    else : \n",
    "        _t_btc[i] = np.array([0,0,0,1])\n",
    "        bar_diff_btc[3] = bar_diff_btc[3] + 1"
   ]
  },
  {
   "cell_type": "code",
   "execution_count": 10,
   "metadata": {},
   "outputs": [
    {
     "data": {
      "image/png": "[encoded data removed]",
      "text/plain": [
       "<matplotlib.figure.Figure at 0x11a89cef0>"
      ]
     },
     "metadata": {},
     "output_type": "display_data"
    },
    {
     "data": {
      "text/plain": [
       "array([ 876., 3622., 3341.,  801.])"
      ]
     },
     "execution_count": 10,
     "metadata": {},
     "output_type": "execute_result"
    }
   ],
   "source": [
    "rcParams['figure.figsize'] = 6, 4\n",
    "left = np.array([1, 2, 3, 4])\n",
    "label = [\"more Up\",\"Up\",\"Down\",\"more Down\"]\n",
    "plt.bar(left, bar_diff_btc, tick_label=label, align=\"center\",width=0.5)\n",
    "plt.show()\n",
    "\n",
    "bar_diff_btc"
   ]
  },
  {
   "cell_type": "code",
   "execution_count": 11,
   "metadata": {
    "collapsed": true
   },
   "outputs": [],
   "source": [
    "# データを入力変数xと出力変数tに切り分け\n",
    "x_btc, t_btc= [], []\n",
    "\n",
    "N = len(data_btc)\n",
    "M = 30 # 入力変数の数：直近30サンプルを使用\n",
    "for n in range(M, N):\n",
    " # 入力変数と出力変数の切り分け\n",
    " _x = data_btc[n-M: n] # 入力変数\n",
    " _t = _t_btc[n] # 出力変数\n",
    " # 計算用のリスト(x, t)に追加していく\n",
    " x_btc.append(_x)\n",
    " t_btc.append(_t)\n"
   ]
  },
  {
   "cell_type": "code",
   "execution_count": 12,
   "metadata": {
    "collapsed": true
   },
   "outputs": [],
   "source": [
    "# numpyに変換\n",
    "# x.shape : 1050,30 t.shape : 1050,1\n",
    "x_btc = np.array(x_btc)\n",
    "t_btc = np.array(t_btc)\n",
    "x_btc = x_btc.reshape(x_btc.shape[0], x_btc.shape[1], 1)\n",
    "N_train = int(len(x_btc) * 0.9)\n",
    "x_train, x_test = x_btc[:N_train], x_btc[N_train:]\n",
    "t_train, t_test = t_btc[:N_train], t_btc[N_train:]"
   ]
  },
  {
   "cell_type": "code",
   "execution_count": 20,
   "metadata": {},
   "outputs": [
    {
     "name": "stdout",
     "output_type": "stream",
     "text": [
      "(8611, 4)\n",
      "_________________________________________________________________\n",
      "Layer (type)                 Output Shape              Param #   \n",
      "=================================================================\n",
      "lstm_8 (LSTM)                (None, 30)                3840      \n",
      "_________________________________________________________________\n",
      "dropout_7 (Dropout)          (None, 30)                0         \n",
      "_________________________________________________________________\n",
      "dense_6 (Dense)              (None, 4)                 124       \n",
      "_________________________________________________________________\n",
      "activation_1 (Activation)    (None, 4)                 0         \n",
      "=================================================================\n",
      "Total params: 3,964\n",
      "Trainable params: 3,964\n",
      "Non-trainable params: 0\n",
      "_________________________________________________________________\n"
     ]
    }
   ],
   "source": [
    "# model\n",
    "# 4分類\n",
    "from keras.models import Sequential\n",
    "from keras.layers.core import Dense, Activation, Dropout\n",
    "from keras.layers.recurrent import LSTM\n",
    "from keras.optimizers import Adam\n",
    "from keras.callbacks import EarlyStopping\n",
    "\n",
    "\n",
    "length_of_sequence = x_btc.shape[1] # 30 = M\n",
    "n_in = x_btc.shape[2]   # 学習データ（＝入力）の列数\n",
    "print(t_btc.shape)\n",
    "n_out = t_btc.shape[1]  # ラベルデータ（=出力）の列数\n",
    "\n",
    "in_out_neurons = 1\n",
    "# n_hidden: 出力次元\n",
    "n_hidden = 30\n",
    "model = Sequential()\n",
    "# return_sequenceとは、TrueにしてRNNレイヤーの毎時刻の出力を得るか、Falseにして最後の時刻のみの出力を得るか、のフラグ\n",
    "# batch_iuput_shape: ([バッチサイズ，step数，特徴の次元数])\n",
    "model.add(LSTM(units=n_hidden,\n",
    "               batch_input_shape=(None, length_of_sequence, n_in), \n",
    "               return_sequences=False\n",
    "              ))\n",
    "model.add(Dropout(0.5))\n",
    "model.add(Dense(n_out))\n",
    "model.add(Activation(\"softmax\"))\n",
    "optimizer = Adam(lr=0.001)\n",
    "model.compile(loss=\"categorical_crossentropy\", optimizer=optimizer) # metrics = ['categorical_accuracy']\n",
    "\n",
    "model.summary()"
   ]
  },
  {
   "cell_type": "code",
   "execution_count": 19,
   "metadata": {},
   "outputs": [
    {
     "name": "stdout",
     "output_type": "stream",
     "text": [
      "_________________________________________________________________\n",
      "Layer (type)                 Output Shape              Param #   \n",
      "=================================================================\n",
      "input_7 (InputLayer)         (None, 30, 1)             0         \n",
      "_________________________________________________________________\n",
      "lstm_7 (LSTM)                (None, 30)                3840      \n",
      "_________________________________________________________________\n",
      "dropout_6 (Dropout)          (None, 30)                0         \n",
      "_________________________________________________________________\n",
      "dense_5 (Dense)              (None, 4)                 124       \n",
      "=================================================================\n",
      "Total params: 3,964\n",
      "Trainable params: 3,964\n",
      "Non-trainable params: 0\n",
      "_________________________________________________________________\n"
     ]
    },
    {
     "name": "stderr",
     "output_type": "stream",
     "text": [
      "/Users/kyohei/.pyenv/versions/3.5.3/lib/python3.5/site-packages/ipykernel_launcher.py:21: UserWarning: Update your `Model` call to the Keras 2 API: `Model(inputs=Tensor(\"in..., outputs=Tensor(\"de...)`\n"
     ]
    }
   ],
   "source": [
    "from keras.models import Sequential\n",
    "from keras.layers.core import Activation\n",
    "from keras.layers import Input, Dense, Dropout, concatenate, LSTM, Embedding\n",
    "from keras.models import Model\n",
    "from keras.optimizers import Adam\n",
    "from keras.callbacks import EarlyStopping\n",
    "\n",
    "length_of_sequence = x_btc.shape[1] # 30 = M\n",
    "n_in = x_btc.shape[2]   # 学習データ（＝入力）の列数\n",
    "n_out = t_btc.shape[1]  # ラベルデータ（=出力）の列数\n",
    "\n",
    "in_out_neurons = 1\n",
    "# n_hidden: 出力次元\n",
    "n_hidden = 30\n",
    "\n",
    "price_input = Input(shape=(length_of_sequence,n_in), name=\"price_input\")\n",
    "price_output = LSTM(units=n_hidden,batch_input_shape=(None, length_of_sequence, n_in), return_sequences=False)(price_input)\n",
    "price_output = Dropout(0.5)(price_output)\n",
    "price_output = Dense(n_out, activation=\"softmax\")(price_output)\n",
    "\n",
    "twitter_input = Input(shape=(200,), dtype=\"float32\", name=\"twitter_input\")\n",
    "twitter_output=Dense(256, activation=\"relu\")(twitter_input)\n",
    "twitter_output=Dense(10,activation=\"softmax\")(twitter_output)\n",
    "\n",
    "model = Model(input=price_input, output=price_output)\n",
    "optimizer = Adam(lr=0.001)\n",
    "model.compile(loss=\"categorical_crossentropy\", optimizer=optimizer)\n",
    "model.summary()"
   ]
  },
  {
   "cell_type": "code",
   "execution_count": 43,
   "metadata": {},
   "outputs": [
    {
     "name": "stdout",
     "output_type": "stream",
     "text": [
      "Train on 6974 samples, validate on 775 samples\n",
      "Epoch 1/20\n",
      "6974/6974 [==============================] - 27s - loss: 1.1606 - val_loss: 1.6217\n",
      "Epoch 2/20\n",
      "6974/6974 [==============================] - 26s - loss: 1.1281 - val_loss: 1.5990\n",
      "Epoch 3/20\n",
      "6974/6974 [==============================] - 30s - loss: 1.1277 - val_loss: 1.6161\n",
      "Epoch 4/20\n",
      "6974/6974 [==============================] - 28s - loss: 1.1252 - val_loss: 1.6270\n",
      "Epoch 5/20\n",
      "6974/6974 [==============================] - 29s - loss: 1.1231 - val_loss: 1.6191\n",
      "Epoch 6/20\n",
      "6974/6974 [==============================] - 27s - loss: 1.1241 - val_loss: 1.6260\n",
      "Epoch 7/20\n",
      "6974/6974 [==============================] - 27s - loss: 1.1218 - val_loss: 1.6208\n",
      "Epoch 8/20\n",
      "6974/6974 [==============================] - 28s - loss: 1.1227 - val_loss: 1.5824\n",
      "Epoch 9/20\n",
      "6974/6974 [==============================] - 28s - loss: 1.1222 - val_loss: 1.5914\n",
      "Epoch 10/20\n",
      "6974/6974 [==============================] - 28s - loss: 1.1197 - val_loss: 1.6509\n",
      "Epoch 11/20\n",
      "6974/6974 [==============================] - 29s - loss: 1.1224 - val_loss: 1.6279\n",
      "Epoch 12/20\n",
      "6974/6974 [==============================] - 26s - loss: 1.1213 - val_loss: 1.6358\n",
      "Epoch 13/20\n",
      "6974/6974 [==============================] - 27s - loss: 1.1218 - val_loss: 1.6007\n",
      "Epoch 14/20\n",
      "6974/6974 [==============================] - 27s - loss: 1.1210 - val_loss: 1.6397\n",
      "Epoch 15/20\n",
      "6974/6974 [==============================] - 30s - loss: 1.1176 - val_loss: 1.6610\n",
      "Epoch 16/20\n",
      "6974/6974 [==============================] - 29s - loss: 1.1201 - val_loss: 1.6300\n",
      "Epoch 17/20\n",
      "6974/6974 [==============================] - 29s - loss: 1.1185 - val_loss: 1.6330\n",
      "Epoch 18/20\n",
      "6974/6974 [==============================] - 28s - loss: 1.1177 - val_loss: 1.6066\n",
      "Epoch 19/20\n",
      "6974/6974 [==============================] - 27s - loss: 1.1190 - val_loss: 1.5736\n",
      "Epoch 20/20\n",
      "6974/6974 [==============================] - 27s - loss: 1.1191 - val_loss: 1.6032\n"
     ]
    },
    {
     "data": {
      "text/plain": [
       "<keras.callbacks.History at 0x10874cac8>"
      ]
     },
     "execution_count": 43,
     "metadata": {},
     "output_type": "execute_result"
    }
   ],
   "source": [
    "early_stopping = EarlyStopping(monitor='val_loss', mode='auto', patience=20)\n",
    "model.fit(x_train, t_train,\n",
    "          batch_size=20,\n",
    "          epochs=20,\n",
    "          validation_split=0.1,\n",
    "          shuffle=True,\n",
    "          callbacks=[early_stopping]\n",
    "          )"
   ]
  },
  {
   "cell_type": "code",
   "execution_count": 44,
   "metadata": {},
   "outputs": [
    {
     "name": "stdout",
     "output_type": "stream",
     "text": [
      "正答率: 0.31554524361948955\n",
      "準正答率（騰落）: 0.5139211136890951\n"
     ]
    }
   ],
   "source": [
    "# 正答率、準正答率（騰落）集計\n",
    "preds = model.predict(x_test)\n",
    "correct = 0\n",
    "semi_correct = 0\n",
    "for i in range(len(preds)):\n",
    "  pred = np.argmax(preds[i,:])\n",
    "  tar = np.argmax(t_test[i,:])\n",
    "  if pred == tar :\n",
    "    # 純粋な正解率\n",
    "    correct += 1\n",
    "  else :\n",
    "    # 上下は当たってるやつ\n",
    "    if pred+tar == 1 or pred+tar == 5 : \n",
    "      semi_correct += 1\n",
    "\n",
    "print(\"正答率:\", 1.0 * correct / len(preds))\n",
    "print(\"準正答率（騰落）:\", 1.0 * (correct+semi_correct) / len(preds))\n"
   ]
  },
  {
   "cell_type": "code",
   "execution_count": null,
   "metadata": {
    "collapsed": true
   },
   "outputs": [],
   "source": []
  },
  {
   "cell_type": "code",
   "execution_count": null,
   "metadata": {
    "collapsed": true
   },
   "outputs": [],
   "source": []
  }
 ],
 "metadata": {
  "kernelspec": {
   "display_name": "Python 3",
   "language": "python",
   "name": "python3"
  },
  "language_info": {
   "codemirror_mode": {
    "name": "ipython",
    "version": 3
   },
   "file_extension": ".py",
   "mimetype": "text/x-python",
   "name": "python",
   "nbconvert_exporter": "python",
   "pygments_lexer": "ipython3",
   "version": "3.5.3"
  }
 },
 "nbformat": 4,
 "nbformat_minor": 2
}

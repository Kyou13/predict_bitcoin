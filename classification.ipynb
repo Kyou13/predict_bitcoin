{
 "cells": [
  {
   "cell_type": "code",
   "execution_count": 10,
   "metadata": {},
   "outputs": [
    {
     "name": "stdout",
     "output_type": "stream",
     "text": [
      "1519020000\n"
     ]
    }
   ],
   "source": [
    "# -*- coding:utf-8 -*-\n",
    "import poloniex\n",
    "import time\n",
    "import json\n",
    "from datetime import datetime\n",
    "\n",
    "# poloniex API\n",
    "polo = poloniex.Poloniex()\n",
    "# 2018/02/19 09:00:00\n",
    "unix_time = int(datetime.strptime(\"2018-2-18 15:00:00\",'%Y-%m-%d %H:%M:%S').strftime('%s'))\n",
    "print(unix_time)\n",
    "\n",
    "\n",
    "\n",
    "#4h間隔で過去180日分 UNIX時間で取得  #14400\n",
    "chart_data_btc = polo.returnChartData('USDT_BTC', period=polo.DAY, start=unix_time-polo.DAY*180, end=unix_time)\n",
    "chart_data_eth = polo.returnChartData('USDT_ETH', period=1800, start=unix_time-polo.DAY*180, end=unix_time)\n"
   ]
  },
  {
   "cell_type": "code",
   "execution_count": 1,
   "metadata": {},
   "outputs": [
    {
     "name": "stdout",
     "output_type": "stream",
     "text": [
      "1518933600\n"
     ]
    }
   ],
   "source": [
    "# \n",
    "import requests\n",
    "import json\n",
    "from datetime import datetime\n",
    "\n",
    "# 2017/12/31 AM 12:00 @JP\n",
    "unix_time = datetime.strptime(\"2018-2-18 15:00:00\",'%Y-%m-%d %H:%M:%S').strftime('%s')\n",
    "print(unix_time)\n",
    "\n",
    "q = {'periods':86400,'before':unix_time}\n",
    "price = json.loads(requests.get('https://api.cryptowat.ch/markets/bitflyer/btcjpy/ohlc',params=q).text)['result']\n"
   ]
  },
  {
   "cell_type": "code",
   "execution_count": 2,
   "metadata": {},
   "outputs": [
    {
     "data": {
      "text/html": [
       "<div>\n",
       "<style>\n",
       "    .dataframe thead tr:only-child th {\n",
       "        text-align: right;\n",
       "    }\n",
       "\n",
       "    .dataframe thead th {\n",
       "        text-align: left;\n",
       "    }\n",
       "\n",
       "    .dataframe tbody tr th {\n",
       "        vertical-align: top;\n",
       "    }\n",
       "</style>\n",
       "<table border=\"1\" class=\"dataframe\">\n",
       "  <thead>\n",
       "    <tr style=\"text-align: right;\">\n",
       "      <th></th>\n",
       "      <th>close</th>\n",
       "      <th>date</th>\n",
       "    </tr>\n",
       "  </thead>\n",
       "  <tbody>\n",
       "    <tr>\n",
       "      <th>170</th>\n",
       "      <td>896989</td>\n",
       "      <td>1518134400</td>\n",
       "    </tr>\n",
       "    <tr>\n",
       "      <th>171</th>\n",
       "      <td>953622</td>\n",
       "      <td>1518220800</td>\n",
       "    </tr>\n",
       "    <tr>\n",
       "      <th>172</th>\n",
       "      <td>940442</td>\n",
       "      <td>1518307200</td>\n",
       "    </tr>\n",
       "    <tr>\n",
       "      <th>173</th>\n",
       "      <td>887384</td>\n",
       "      <td>1518393600</td>\n",
       "    </tr>\n",
       "    <tr>\n",
       "      <th>174</th>\n",
       "      <td>972007</td>\n",
       "      <td>1518480000</td>\n",
       "    </tr>\n",
       "    <tr>\n",
       "      <th>175</th>\n",
       "      <td>924633</td>\n",
       "      <td>1518566400</td>\n",
       "    </tr>\n",
       "    <tr>\n",
       "      <th>176</th>\n",
       "      <td>1015216</td>\n",
       "      <td>1518652800</td>\n",
       "    </tr>\n",
       "    <tr>\n",
       "      <th>177</th>\n",
       "      <td>1074001</td>\n",
       "      <td>1518739200</td>\n",
       "    </tr>\n",
       "    <tr>\n",
       "      <th>178</th>\n",
       "      <td>1089298</td>\n",
       "      <td>1518825600</td>\n",
       "    </tr>\n",
       "    <tr>\n",
       "      <th>179</th>\n",
       "      <td>1187999</td>\n",
       "      <td>1518912000</td>\n",
       "    </tr>\n",
       "  </tbody>\n",
       "</table>\n",
       "</div>"
      ],
      "text/plain": [
       "       close        date\n",
       "170   896989  1518134400\n",
       "171   953622  1518220800\n",
       "172   940442  1518307200\n",
       "173   887384  1518393600\n",
       "174   972007  1518480000\n",
       "175   924633  1518566400\n",
       "176  1015216  1518652800\n",
       "177  1074001  1518739200\n",
       "178  1089298  1518825600\n",
       "179  1187999  1518912000"
      ]
     },
     "execution_count": 2,
     "metadata": {},
     "output_type": "execute_result"
    }
   ],
   "source": [
    "# crypto watch\n",
    "import pandas as pd \n",
    "chart_data_btc = pd.DataFrame({'date':[p[0] for p in price['86400'][-180:]],\n",
    "                          'close':[p[-3] for p in price['86400'][-180:]]\n",
    "                         })\n",
    "chart_data_btc.tail(10)"
   ]
  },
  {
   "cell_type": "code",
   "execution_count": 74,
   "metadata": {},
   "outputs": [
    {
     "data": {
      "text/html": [
       "<div>\n",
       "<style>\n",
       "    .dataframe thead tr:only-child th {\n",
       "        text-align: right;\n",
       "    }\n",
       "\n",
       "    .dataframe thead th {\n",
       "        text-align: left;\n",
       "    }\n",
       "\n",
       "    .dataframe tbody tr th {\n",
       "        vertical-align: top;\n",
       "    }\n",
       "</style>\n",
       "<table border=\"1\" class=\"dataframe\">\n",
       "  <thead>\n",
       "    <tr style=\"text-align: right;\">\n",
       "      <th></th>\n",
       "      <th>close</th>\n",
       "      <th>date</th>\n",
       "      <th>high</th>\n",
       "      <th>low</th>\n",
       "      <th>open</th>\n",
       "      <th>quoteVolume</th>\n",
       "      <th>volume</th>\n",
       "      <th>weightedAverage</th>\n",
       "    </tr>\n",
       "  </thead>\n",
       "  <tbody>\n",
       "    <tr>\n",
       "      <th>170</th>\n",
       "      <td>8560.42138972</td>\n",
       "      <td>1518220800</td>\n",
       "      <td>9069.99999984</td>\n",
       "      <td>8144.47445801</td>\n",
       "      <td>8682.31340707</td>\n",
       "      <td>6157.8192782</td>\n",
       "      <td>53070135.402707</td>\n",
       "      <td>8618.33272544</td>\n",
       "    </tr>\n",
       "    <tr>\n",
       "      <th>171</th>\n",
       "      <td>8070</td>\n",
       "      <td>1518307200</td>\n",
       "      <td>8560.42138972</td>\n",
       "      <td>7805</td>\n",
       "      <td>8544.23896512</td>\n",
       "      <td>4509.32045465</td>\n",
       "      <td>36772320.677687</td>\n",
       "      <td>8154.73662772</td>\n",
       "    </tr>\n",
       "    <tr>\n",
       "      <th>172</th>\n",
       "      <td>8910</td>\n",
       "      <td>1518393600</td>\n",
       "      <td>9000</td>\n",
       "      <td>8070</td>\n",
       "      <td>8070</td>\n",
       "      <td>3826.23588267</td>\n",
       "      <td>33126284.390374</td>\n",
       "      <td>8657.66915741</td>\n",
       "    </tr>\n",
       "    <tr>\n",
       "      <th>173</th>\n",
       "      <td>8500.61835334</td>\n",
       "      <td>1518480000</td>\n",
       "      <td>8943.49999999</td>\n",
       "      <td>8355</td>\n",
       "      <td>8889.00000164</td>\n",
       "      <td>3642.31316735</td>\n",
       "      <td>31293751.677267</td>\n",
       "      <td>8591.72461</td>\n",
       "    </tr>\n",
       "    <tr>\n",
       "      <th>174</th>\n",
       "      <td>9469.99998292</td>\n",
       "      <td>1518566400</td>\n",
       "      <td>9485.88887924</td>\n",
       "      <td>8500.6183543</td>\n",
       "      <td>8523.09999763</td>\n",
       "      <td>4108.85804018</td>\n",
       "      <td>37263750.946118</td>\n",
       "      <td>9069.12591813</td>\n",
       "    </tr>\n",
       "    <tr>\n",
       "      <th>175</th>\n",
       "      <td>10004</td>\n",
       "      <td>1518652800</td>\n",
       "      <td>10198.5</td>\n",
       "      <td>9319.84000301</td>\n",
       "      <td>9456.2142096</td>\n",
       "      <td>5275.10959608</td>\n",
       "      <td>51604899.336311</td>\n",
       "      <td>9782.71605478</td>\n",
       "    </tr>\n",
       "    <tr>\n",
       "      <th>176</th>\n",
       "      <td>10161.00000514</td>\n",
       "      <td>1518739200</td>\n",
       "      <td>10279.99999999</td>\n",
       "      <td>9674.52416058</td>\n",
       "      <td>10010</td>\n",
       "      <td>3011.99598281</td>\n",
       "      <td>30062234.361222</td>\n",
       "      <td>9980.83481279</td>\n",
       "    </tr>\n",
       "    <tr>\n",
       "      <th>177</th>\n",
       "      <td>11049</td>\n",
       "      <td>1518825600</td>\n",
       "      <td>11069.43999976</td>\n",
       "      <td>10045</td>\n",
       "      <td>10161.00000514</td>\n",
       "      <td>3857.71800657</td>\n",
       "      <td>41193022.43693</td>\n",
       "      <td>10678.08024505</td>\n",
       "    </tr>\n",
       "    <tr>\n",
       "      <th>178</th>\n",
       "      <td>10379.00000001</td>\n",
       "      <td>1518912000</td>\n",
       "      <td>11248</td>\n",
       "      <td>10080</td>\n",
       "      <td>11049</td>\n",
       "      <td>4812.39715935</td>\n",
       "      <td>51229772.144017</td>\n",
       "      <td>10645.37494468</td>\n",
       "    </tr>\n",
       "    <tr>\n",
       "      <th>179</th>\n",
       "      <td>11155.99999985</td>\n",
       "      <td>1518998400</td>\n",
       "      <td>11246.98765432</td>\n",
       "      <td>10289.99999911</td>\n",
       "      <td>10399.99999946</td>\n",
       "      <td>3077.15666606</td>\n",
       "      <td>33452377.076487</td>\n",
       "      <td>10871.19724694</td>\n",
       "    </tr>\n",
       "  </tbody>\n",
       "</table>\n",
       "</div>"
      ],
      "text/plain": [
       "              close        date            high             low  \\\n",
       "170   8560.42138972  1518220800   9069.99999984   8144.47445801   \n",
       "171            8070  1518307200   8560.42138972            7805   \n",
       "172            8910  1518393600            9000            8070   \n",
       "173   8500.61835334  1518480000   8943.49999999            8355   \n",
       "174   9469.99998292  1518566400   9485.88887924    8500.6183543   \n",
       "175           10004  1518652800         10198.5   9319.84000301   \n",
       "176  10161.00000514  1518739200  10279.99999999   9674.52416058   \n",
       "177           11049  1518825600  11069.43999976           10045   \n",
       "178  10379.00000001  1518912000           11248           10080   \n",
       "179  11155.99999985  1518998400  11246.98765432  10289.99999911   \n",
       "\n",
       "               open    quoteVolume           volume weightedAverage  \n",
       "170   8682.31340707   6157.8192782  53070135.402707   8618.33272544  \n",
       "171   8544.23896512  4509.32045465  36772320.677687   8154.73662772  \n",
       "172            8070  3826.23588267  33126284.390374   8657.66915741  \n",
       "173   8889.00000164  3642.31316735  31293751.677267      8591.72461  \n",
       "174   8523.09999763  4108.85804018  37263750.946118   9069.12591813  \n",
       "175    9456.2142096  5275.10959608  51604899.336311   9782.71605478  \n",
       "176           10010  3011.99598281  30062234.361222   9980.83481279  \n",
       "177  10161.00000514  3857.71800657   41193022.43693  10678.08024505  \n",
       "178           11049  4812.39715935  51229772.144017  10645.37494468  \n",
       "179  10399.99999946  3077.15666606  33452377.076487  10871.19724694  "
      ]
     },
     "execution_count": 74,
     "metadata": {},
     "output_type": "execute_result"
    }
   ],
   "source": [
    "# poloniex\n",
    "import pandas as pd\n",
    "\n",
    "# DataFrameに変換\n",
    "df_btc = pd.DataFrame(chart_data_btc)\n",
    "df_btc.tail(10)\n",
    "\n",
    "# onedayで取得すると終わりが9時になる"
   ]
  },
  {
   "cell_type": "code",
   "execution_count": 3,
   "metadata": {
    "collapsed": true
   },
   "outputs": [],
   "source": [
    "import numpy as np\n",
    "from sklearn.preprocessing import MinMaxScaler\n",
    "np.random.seed(1)\n",
    "\n",
    "# 正規化\n",
    "data_btc_ = pd.DataFrame([float(i) for i in chart_data_btc['close']])\n",
    "\n",
    "mss = MinMaxScaler()\n",
    "data_btc = pd.DataFrame(mss.fit_transform(data_btc_))"
   ]
  },
  {
   "cell_type": "code",
   "execution_count": 4,
   "metadata": {
    "collapsed": true
   },
   "outputs": [],
   "source": [
    "data_btc = np.array(data_btc.astype(np.float32))\n",
    "data_btc_log = np.log(data_btc_)\n",
    "data_btc_log = np.array(data_btc_log)"
   ]
  },
  {
   "cell_type": "code",
   "execution_count": 5,
   "metadata": {},
   "outputs": [
    {
     "name": "stderr",
     "output_type": "stream",
     "text": [
      "/Users/kyohei/.pyenv/versions/3.5.3/lib/python3.5/site-packages/matplotlib/font_manager.py:1297: UserWarning: findfont: Font family ['IPAPGothic'] not found. Falling back to DejaVu Sans\n",
      "  (prop.get_family(), self.defaultFamily[fontext]))\n"
     ]
    },
    {
     "data": {
      "image/png": "[encoded data removed]",
      "text/plain": [
       "<matplotlib.figure.Figure at 0x112cdbf28>"
      ]
     },
     "metadata": {},
     "output_type": "display_data"
    }
   ],
   "source": [
    "from matplotlib.pylab import rcParams\n",
    "import seaborn as sns\n",
    "rcParams['figure.figsize'] = 15, 6\n",
    "import matplotlib.pyplot as plt\n",
    "\n",
    "\n",
    "#前日との差\n",
    "plt.rcParams['font.family'] = 'IPAPGothic' #全体のフォントを設定\n",
    "diff_btc = data_btc_log[1:] - data_btc_log[:-1]\n",
    "diff_btc *= 100\n",
    "sns.distplot(diff_btc, bins=300, kde=False)\n",
    "plt.tick_params(labelleft=\"off\",left=\"off\") # y軸の削除\n",
    "plt.xlabel(\"diff_price\")\n",
    "plt.xlim(-32,32)\n",
    "plt.show()\n"
   ]
  },
  {
   "cell_type": "code",
   "execution_count": 43,
   "metadata": {},
   "outputs": [
    {
     "data": {
      "text/plain": [
       "'/Users/kyohei/.pyenv/versions/3.5.3/lib/python3.5/site-packages/matplotlib/mpl-data/matplotlibrc'"
      ]
     },
     "execution_count": 43,
     "metadata": {},
     "output_type": "execute_result"
    }
   ],
   "source": [
    "import matplotlib\n",
    "matplotlib.matplotlib_fname()"
   ]
  },
  {
   "cell_type": "code",
   "execution_count": 22,
   "metadata": {},
   "outputs": [
    {
     "name": "stdout",
     "output_type": "stream",
     "text": [
      "0.5401261986416762\n",
      "きょぴお\n",
      "標準偏差[%]:107.33\n",
      "標準偏差[%]:7.08\n",
      "平均[%]:0.54\n"
     ]
    }
   ],
   "source": [
    "# 標準偏差\n",
    "diff_std = np.std(diff_btc)\n",
    "diff_avg = np.average(diff_btc)\n",
    "print(diff_avg)\n",
    "\n",
    "print(\"きょぴお\")\n",
    "print(\"標準偏差[%]:{:.2f}\".format(np.exp(diff_std/100)*100))\n",
    "print(\"標準偏差[%]:{:.2f}\".format(diff_std))\n",
    "print(\"平均[%]:{:.2f}\".format(diff_avg))"
   ]
  },
  {
   "cell_type": "code",
   "execution_count": 13,
   "metadata": {},
   "outputs": [
    {
     "data": {
      "text/plain": [
       "4.879016416943205"
      ]
     },
     "execution_count": 13,
     "metadata": {},
     "output_type": "execute_result"
    }
   ],
   "source": [
    "np.log(1.05)*100"
   ]
  },
  {
   "cell_type": "code",
   "execution_count": 78,
   "metadata": {
    "collapsed": true
   },
   "outputs": [],
   "source": [
    "# onehotラベル生成　\n",
    "_t_btc = np.empty((len(data_btc),4),dtype=np.float64)\n",
    "# とりあえず閾値は1sigma\n",
    "\n",
    "#thresh = diff_std\n",
    "thresh =  np.log(1.05)*100\n",
    "\n",
    "# 棒グラフ用配列\n",
    "bar_diff_btc = np.zeros(4)\n",
    "\n",
    "for i in range(1,len(data_btc)):\n",
    "    # めっちゃ上がる\n",
    "    if diff_btc[i-1] >= thresh:  \n",
    "        _t_btc[i] = np.array([1,0,0,0])\n",
    "        bar_diff_btc[0] = bar_diff_btc[0] + 1\n",
    "    # 上がる\n",
    "    elif diff_btc[i-1] >= 0 and diff_btc[i-1] < thresh: \n",
    "        _t_btc[i] = np.array([0,1,0,0])\n",
    "        bar_diff_btc[1] = bar_diff_btc[1] + 1\n",
    "    # 下がる\n",
    "    elif diff_btc[i-1] >= -thresh and  diff_btc[i-1] < 0: \n",
    "        _t_btc[i] = np.array([0,0,1,0])\n",
    "        bar_diff_btc[2] = bar_diff_btc[2] + 1\n",
    "    # めっちゃ下がる\n",
    "    else : \n",
    "        _t_btc[i] = np.array([0,0,0,1])\n",
    "        bar_diff_btc[3] = bar_diff_btc[3] + 1"
   ]
  },
  {
   "cell_type": "code",
   "execution_count": 79,
   "metadata": {},
   "outputs": [
    {
     "name": "stderr",
     "output_type": "stream",
     "text": [
      "/Users/kyohei/.pyenv/versions/3.5.3/lib/python3.5/site-packages/matplotlib/font_manager.py:1297: UserWarning: findfont: Font family ['IPAPGothic'] not found. Falling back to DejaVu Sans\n",
      "  (prop.get_family(), self.defaultFamily[fontext]))\n"
     ]
    },
    {
     "data": {
      "image/png": "[encoded data removed]",
      "text/plain": [
       "<matplotlib.figure.Figure at 0x126b956a0>"
      ]
     },
     "metadata": {},
     "output_type": "display_data"
    },
    {
     "data": {
      "text/plain": [
       "array([36., 63., 54., 26.])"
      ]
     },
     "execution_count": 79,
     "metadata": {},
     "output_type": "execute_result"
    }
   ],
   "source": [
    "rcParams['figure.figsize'] = 6, 4\n",
    "left = np.array([1, 2, 3, 4])\n",
    "label = [\"more Up\",\"Up\",\"Down\",\"more Down\"]\n",
    "plt.bar(left, bar_diff_btc, tick_label=label, align=\"center\",width=0.5)\n",
    "plt.tick_params(labelleft=\"off\",left=\"off\") # y軸の削除\n",
    "plt.show()\n",
    "\n",
    "bar_diff_btc"
   ]
  },
  {
   "cell_type": "code",
   "execution_count": 80,
   "metadata": {
    "collapsed": true
   },
   "outputs": [],
   "source": [
    "# データを入力変数xと出力変数tに切り分け\n",
    "x_btc, t_btc= [], []\n",
    "\n",
    "N = len(data_btc)\n",
    "M = 30 # 入力変数の数：直近30サンプルを使用\n",
    "for n in range(M, N):\n",
    " # 入力変数と出力変数の切り分け\n",
    " _x = data_btc[n-M: n] # 入力変数\n",
    " _t = _t_btc[n] # 出力変数\n",
    " # 計算用のリスト(x, t)に追加していく\n",
    " x_btc.append(_x)\n",
    " t_btc.append(_t)\n"
   ]
  },
  {
   "cell_type": "code",
   "execution_count": 81,
   "metadata": {
    "collapsed": true
   },
   "outputs": [],
   "source": [
    "# numpyに変換\n",
    "# x.shape : 1050,30 t.shape : 1050,1\n",
    "x_btc = np.array(x_btc)\n",
    "t_btc = np.array(t_btc)\n",
    "\n",
    "x_btc = x_btc.reshape(x_btc.shape[0], x_btc.shape[1], 1)\n",
    "N_train = int(len(x_btc) * 0.9)\n",
    "x_train, x_test = x_btc[:N_train], x_btc[N_train:]\n",
    "t_train, t_test = t_btc[:N_train], t_btc[N_train:]"
   ]
  },
  {
   "cell_type": "code",
   "execution_count": 89,
   "metadata": {},
   "outputs": [
    {
     "data": {
      "text/plain": [
       "(150, 30, 1)"
      ]
     },
     "execution_count": 89,
     "metadata": {},
     "output_type": "execute_result"
    }
   ],
   "source": [
    "x_btc.shape"
   ]
  },
  {
   "cell_type": "code",
   "execution_count": 82,
   "metadata": {},
   "outputs": [
    {
     "name": "stdout",
     "output_type": "stream",
     "text": [
      "(150, 4)\n",
      "_________________________________________________________________\n",
      "Layer (type)                 Output Shape              Param #   \n",
      "=================================================================\n",
      "lstm_10 (LSTM)               (None, 30)                3840      \n",
      "_________________________________________________________________\n",
      "dropout_8 (Dropout)          (None, 30)                0         \n",
      "_________________________________________________________________\n",
      "dense_4 (Dense)              (None, 4)                 124       \n",
      "_________________________________________________________________\n",
      "activation_1 (Activation)    (None, 4)                 0         \n",
      "=================================================================\n",
      "Total params: 3,964\n",
      "Trainable params: 3,964\n",
      "Non-trainable params: 0\n",
      "_________________________________________________________________\n"
     ]
    }
   ],
   "source": [
    "# model\n",
    "# 4分類\n",
    "from keras.models import Sequential\n",
    "from keras.layers.core import Dense, Activation, Dropout\n",
    "from keras.layers.recurrent import LSTM\n",
    "from keras.optimizers import Adam\n",
    "from keras.callbacks import EarlyStopping\n",
    "\n",
    "\n",
    "length_of_sequence = x_btc.shape[1] # 30 = M\n",
    "n_in = x_btc.shape[2]   # 学習データ（＝入力）の列数\n",
    "print(t_btc.shape)\n",
    "n_out = t_btc.shape[1]  # ラベルデータ（=出力）の列数\n",
    "\n",
    "in_out_neurons = 1\n",
    "# n_hidden: 出力次元\n",
    "n_hidden = 30\n",
    "model = Sequential()\n",
    "# return_sequenceとは、TrueにしてRNNレイヤーの毎時刻の出力を得るか、Falseにして最後の時刻のみの出力を得るか、のフラグ\n",
    "# batch_iuput_shape: ([バッチサイズ，step数，特徴の次元数])\n",
    "model.add(LSTM(units=n_hidden,\n",
    "               batch_input_shape=(None, length_of_sequence, n_in), \n",
    "               return_sequences=False\n",
    "              ))\n",
    "model.add(Dropout(0.5))\n",
    "model.add(Dense(n_out))\n",
    "model.add(Activation(\"softmax\"))\n",
    "optimizer = Adam(lr=0.001)\n",
    "model.compile(loss=\"categorical_crossentropy\", optimizer=optimizer, metrics=[\"accuracy\"]) # metrics = ['categorical_accuracy']\n",
    "\n",
    "model.summary()\n"
   ]
  },
  {
   "cell_type": "code",
   "execution_count": 84,
   "metadata": {},
   "outputs": [
    {
     "name": "stdout",
     "output_type": "stream",
     "text": [
      "_________________________________________________________________\n",
      "Layer (type)                 Output Shape              Param #   \n",
      "=================================================================\n",
      "price_input (InputLayer)     (None, 30, 1)             0         \n",
      "_________________________________________________________________\n",
      "lstm_11 (LSTM)               (None, 30)                3840      \n",
      "_________________________________________________________________\n",
      "dropout_9 (Dropout)          (None, 30)                0         \n",
      "_________________________________________________________________\n",
      "dense_5 (Dense)              (None, 4)                 124       \n",
      "=================================================================\n",
      "Total params: 3,964\n",
      "Trainable params: 3,964\n",
      "Non-trainable params: 0\n",
      "_________________________________________________________________\n"
     ]
    },
    {
     "name": "stderr",
     "output_type": "stream",
     "text": [
      "/Users/kyohei/.pyenv/versions/3.5.3/lib/python3.5/site-packages/ipykernel_launcher.py:22: UserWarning: Update your `Model` call to the Keras 2 API: `Model(inputs=Tensor(\"pr..., outputs=Tensor(\"de...)`\n"
     ]
    }
   ],
   "source": [
    "from keras.models import Sequential\n",
    "from keras.layers.core import Activation\n",
    "from keras.layers import Input, Dense, Dropout, concatenate, LSTM, Embedding\n",
    "from keras.models import Model\n",
    "from keras.optimizers import Adam\n",
    "from keras.callbacks import EarlyStopping\n",
    "\n",
    "length_of_sequence = x_btc.shape[1] # 30 = M\n",
    "n_in = x_btc.shape[2]   # 学習データ（＝入力）の列数\n",
    "n_out = t_btc.shape[1]  # ラベルデータ（=出力）の列数\n",
    "\n",
    "in_out_neurons = 1\n",
    "# n_hidden: 出力次元\n",
    "n_hidden = 30\n",
    "\n",
    "# LSTMモデル　作成(入力：価格)\n",
    "# batch_iuput_shape: ([バッチサイズ，step数，特徴の次元数])\n",
    "price_input = Input(shape=(length_of_sequence,n_in), name=\"price_input\")\n",
    "price_output = LSTM(units=n_hidden,batch_input_shape=(None, length_of_sequence, n_in), return_sequences=False)(price_input)\n",
    "price_output = Dropout(0.5)(price_output)\n",
    "price_output = Dense(n_out, activation=\"softmax\")(price_output)\n",
    "model = Model(input=price_input, output= price_output)\n",
    "model.compile(loss=\"categorical_crossentropy\", optimizer=\"adam\", metrics=[\"accuracy\"]) # metrics = ['categorical_accuracy']\n",
    "model.summary()"
   ]
  },
  {
   "cell_type": "markdown",
   "metadata": {
    "collapsed": true
   },
   "source": [
    "# ベクトル化したツイートを読み込み"
   ]
  },
  {
   "cell_type": "code",
   "execution_count": 83,
   "metadata": {
    "collapsed": true
   },
   "outputs": [],
   "source": [
    "tweet_vec = np.load(\"tweet_vec.npy\")\n",
    "# lstmが30日ずつなので\n",
    "tweet_vec = tweet_vec[29:-1]\n",
    "\n",
    "N_train = int(len(tweet_vec) * 0.9)\n",
    "tweet_train, tweet_test = tweet_vec[:N_train], tweet_vec[N_train:]"
   ]
  },
  {
   "cell_type": "code",
   "execution_count": 120,
   "metadata": {},
   "outputs": [
    {
     "data": {
      "text/plain": [
       "(135, 400)"
      ]
     },
     "execution_count": 120,
     "metadata": {},
     "output_type": "execute_result"
    }
   ],
   "source": [
    "tweet_train.shape"
   ]
  },
  {
   "cell_type": "markdown",
   "metadata": {},
   "source": [
    "# 2入力1出力モデル"
   ]
  },
  {
   "cell_type": "code",
   "execution_count": 91,
   "metadata": {},
   "outputs": [
    {
     "name": "stdout",
     "output_type": "stream",
     "text": [
      "____________________________________________________________________________________________________\n",
      "Layer (type)                     Output Shape          Param #     Connected to                     \n",
      "====================================================================================================\n",
      "price_input (InputLayer)         (None, 30, 1)         0                                            \n",
      "____________________________________________________________________________________________________\n",
      "lstm_12 (LSTM)                   (None, 30)            3840        price_input[0][0]                \n",
      "____________________________________________________________________________________________________\n",
      "twitter_input (InputLayer)       (None, 400)           0                                            \n",
      "____________________________________________________________________________________________________\n",
      "concatenate_9 (Concatenate)      (None, 430)           0           lstm_12[0][0]                    \n",
      "                                                                   twitter_input[0][0]              \n",
      "____________________________________________________________________________________________________\n",
      "main_output (Dense)              (None, 512)           220672      concatenate_9[0][0]              \n",
      "____________________________________________________________________________________________________\n",
      "dropout_10 (Dropout)             (None, 512)           0           main_output[0][0]                \n",
      "____________________________________________________________________________________________________\n",
      "dense_6 (Dense)                  (None, 4)             2052        dropout_10[0][0]                 \n",
      "====================================================================================================\n",
      "Total params: 226,564\n",
      "Trainable params: 226,564\n",
      "Non-trainable params: 0\n",
      "____________________________________________________________________________________________________\n"
     ]
    }
   ],
   "source": [
    "from keras.models import Sequential\n",
    "from keras.layers.core import Activation\n",
    "from keras.layers import Input, Dense, Dropout, concatenate, LSTM, Embedding\n",
    "from keras.models import Model\n",
    "from keras.optimizers import Adam\n",
    "from keras.callbacks import EarlyStopping\n",
    "\n",
    "\n",
    "length_of_sequence = x_btc.shape[1] # 30 = M\n",
    "n_in = x_btc.shape[2]   # 学習データ（＝入力）の列数\n",
    "n_out = t_btc.shape[1]  # ラベルデータ（=出力）の列数\n",
    "\n",
    "in_out_neurons = 1\n",
    "# n_hidden: 出力次元\n",
    "n_hidden = 30\n",
    "\n",
    "# LSTMモデル　作成(入力：価格)\n",
    "price_input = Input(shape=(length_of_sequence, n_in), name=\"price_input\")\n",
    "price_output = LSTM(units=n_hidden,batch_input_shape=(None, length_of_sequence, n_in), return_sequences=False)(price_input)\n",
    "\n",
    "\n",
    "# 全結合モデル作成 (入力：ツイッター)\n",
    "twitter_input = Input(shape=(400,), dtype=\"float32\", name=\"twitter_input\")\n",
    "\n",
    "\n",
    "# もう少し早く連結\n",
    "x = concatenate([price_output, twitter_input])\n",
    "main_output = Dense(512, activation='relu', name='main_output')(x)\n",
    "main_output = Dropout(0.5)(main_output)\n",
    "# 2つのモデルの出力を結合\n",
    "#main_output = concatenate([price_output, twitter_output])\n",
    "\n",
    "# 結合後の層\n",
    "#main_output = Dense(512, activation=\"relu\")(model_output)\n",
    "main_output = Dense(n_out, activation=\"softmax\")(main_output)\n",
    "\n",
    "#model = Model(input=[price_input, twitter_input], output= [main_output, price_output, twitter_output])\n",
    "model = Model(inputs=[price_input, twitter_input], outputs= [main_output])\n",
    "\n",
    "#model.compile(loss=\"categorical_crossentropy\", optimizer=\"adam\", loss_weights=[1.0, 0.5, 0.3], metrics=[\"accuracy\"])\n",
    "model.compile(loss=\"categorical_crossentropy\", optimizer=\"adam\" ,metrics=[\"accuracy\"])\n",
    "model.summary()\n"
   ]
  },
  {
   "cell_type": "code",
   "execution_count": 59,
   "metadata": {
    "collapsed": true
   },
   "outputs": [],
   "source": [
    "import os\n",
    "import random as rn\n",
    "import tensorflow as tf\n",
    "\n",
    "os.environ['PYTHONHASHSEED'] = '0'\n",
    "np.random.seed(8)\n",
    "rn.seed(7)\n",
    "\n",
    "session_conf = tf.ConfigProto(\n",
    "    intra_op_parallelism_threads=1,\n",
    "    inter_op_parallelism_threads=1\n",
    ")\n",
    "\n",
    "from keras import backend as K\n",
    "\n",
    "tf.set_random_seed(7)\n",
    "sess = tf.Session(graph=tf.get_default_graph(), config=session_conf)\n",
    "K.set_session(sess)"
   ]
  },
  {
   "cell_type": "markdown",
   "metadata": {},
   "source": [
    "# 過去価格のみで予測"
   ]
  },
  {
   "cell_type": "code",
   "execution_count": 89,
   "metadata": {},
   "outputs": [
    {
     "name": "stdout",
     "output_type": "stream",
     "text": [
      "Epoch 1/20\n",
      "135/135 [==============================] - 0s - loss: 1.3070 - acc: 0.3556     \n",
      "Epoch 2/20\n",
      " 40/135 [=======>......................] - ETA: 0s - loss: 1.2850 - acc: 0.2500"
     ]
    },
    {
     "name": "stderr",
     "output_type": "stream",
     "text": [
      "/Users/kyohei/.pyenv/versions/3.5.3/lib/python3.5/site-packages/keras/callbacks.py:496: RuntimeWarning: Early stopping conditioned on metric `val_loss` which is not available. Available metrics are: loss,acc\n",
      "  (self.monitor, ','.join(list(logs.keys()))), RuntimeWarning\n"
     ]
    },
    {
     "name": "stdout",
     "output_type": "stream",
     "text": [
      "135/135 [==============================] - 0s - loss: 1.3003 - acc: 0.3852     \n",
      "Epoch 3/20\n",
      "135/135 [==============================] - 0s - loss: 1.2901 - acc: 0.3704     \n",
      "Epoch 4/20\n",
      "135/135 [==============================] - 0s - loss: 1.3068 - acc: 0.4074     \n",
      "Epoch 5/20\n",
      "135/135 [==============================] - 0s - loss: 1.3018 - acc: 0.3778     \n",
      "Epoch 6/20\n",
      "135/135 [==============================] - 0s - loss: 1.2833 - acc: 0.4074     \n",
      "Epoch 7/20\n",
      "135/135 [==============================] - 0s - loss: 1.2920 - acc: 0.4000     \n",
      "Epoch 8/20\n",
      "135/135 [==============================] - 0s - loss: 1.3121 - acc: 0.4000     \n",
      "Epoch 9/20\n",
      "135/135 [==============================] - 0s - loss: 1.2878 - acc: 0.3407     \n",
      "Epoch 10/20\n",
      "135/135 [==============================] - 0s - loss: 1.2698 - acc: 0.3407     \n",
      "Epoch 11/20\n",
      "135/135 [==============================] - 0s - loss: 1.2994 - acc: 0.3630     \n",
      "Epoch 12/20\n",
      "135/135 [==============================] - 0s - loss: 1.2996 - acc: 0.3556     \n",
      "Epoch 13/20\n",
      "135/135 [==============================] - 0s - loss: 1.3016 - acc: 0.3778     \n",
      "Epoch 14/20\n",
      "135/135 [==============================] - 0s - loss: 1.2710 - acc: 0.4074     \n",
      "Epoch 15/20\n",
      "135/135 [==============================] - 0s - loss: 1.3111 - acc: 0.3778     \n",
      "Epoch 16/20\n",
      "135/135 [==============================] - 0s - loss: 1.2918 - acc: 0.3926     \n",
      "Epoch 17/20\n",
      "135/135 [==============================] - 0s - loss: 1.2862 - acc: 0.4074     \n",
      "Epoch 18/20\n",
      "135/135 [==============================] - 0s - loss: 1.2917 - acc: 0.3481     \n",
      "Epoch 19/20\n",
      "135/135 [==============================] - 0s - loss: 1.3119 - acc: 0.3926     \n",
      "Epoch 20/20\n",
      "135/135 [==============================] - 0s - loss: 1.2888 - acc: 0.3852     \n"
     ]
    }
   ],
   "source": [
    "early_stopping = EarlyStopping(monitor='val_loss', mode='auto', patience=20)\n",
    "\n",
    "model.fit(x_train, t_train,\n",
    "          batch_size=20,\n",
    "          epochs=20,\n",
    "          #validation_split=0.1,\n",
    "          shuffle=True,\n",
    "          callbacks=[early_stopping]\n",
    "          )\n",
    "model.save_weights('only_price_5per.h5')"
   ]
  },
  {
   "cell_type": "markdown",
   "metadata": {},
   "source": [
    "# 過去価格＋ツイートで予測"
   ]
  },
  {
   "cell_type": "code",
   "execution_count": 96,
   "metadata": {},
   "outputs": [
    {
     "name": "stdout",
     "output_type": "stream",
     "text": [
      "Epoch 1/20\n",
      "135/135 [==============================] - 0s - loss: 1.2579 - acc: 0.4000     \n",
      "Epoch 2/20\n",
      " 40/135 [=======>......................] - ETA: 0s - loss: 1.3438 - acc: 0.3500"
     ]
    },
    {
     "name": "stderr",
     "output_type": "stream",
     "text": [
      "/Users/kyohei/.pyenv/versions/3.5.3/lib/python3.5/site-packages/keras/callbacks.py:496: RuntimeWarning: Early stopping conditioned on metric `val_loss` which is not available. Available metrics are: loss,acc\n",
      "  (self.monitor, ','.join(list(logs.keys()))), RuntimeWarning\n"
     ]
    },
    {
     "name": "stdout",
     "output_type": "stream",
     "text": [
      "135/135 [==============================] - 0s - loss: 1.2689 - acc: 0.4148     \n",
      "Epoch 3/20\n",
      "135/135 [==============================] - 0s - loss: 1.2689 - acc: 0.4000     \n",
      "Epoch 4/20\n",
      "135/135 [==============================] - 0s - loss: 1.2714 - acc: 0.4000     \n",
      "Epoch 5/20\n",
      "135/135 [==============================] - 0s - loss: 1.2698 - acc: 0.4074     \n",
      "Epoch 6/20\n",
      "135/135 [==============================] - 0s - loss: 1.2597 - acc: 0.4000     \n",
      "Epoch 7/20\n",
      "135/135 [==============================] - 0s - loss: 1.2592 - acc: 0.4000     \n",
      "Epoch 8/20\n",
      "135/135 [==============================] - 0s - loss: 1.2674 - acc: 0.4000     \n",
      "Epoch 9/20\n",
      "135/135 [==============================] - 0s - loss: 1.2619 - acc: 0.3926     \n",
      "Epoch 10/20\n",
      "135/135 [==============================] - 0s - loss: 1.2551 - acc: 0.4074     \n",
      "Epoch 11/20\n",
      "135/135 [==============================] - 0s - loss: 1.2729 - acc: 0.3926     \n",
      "Epoch 12/20\n",
      "135/135 [==============================] - 0s - loss: 1.2659 - acc: 0.4000     \n",
      "Epoch 13/20\n",
      "135/135 [==============================] - 0s - loss: 1.2664 - acc: 0.4148     \n",
      "Epoch 14/20\n",
      "135/135 [==============================] - 0s - loss: 1.2499 - acc: 0.4074     \n",
      "Epoch 15/20\n",
      "135/135 [==============================] - 0s - loss: 1.2592 - acc: 0.4000     \n",
      "Epoch 16/20\n",
      "135/135 [==============================] - 0s - loss: 1.2665 - acc: 0.4000     \n",
      "Epoch 17/20\n",
      "135/135 [==============================] - 0s - loss: 1.2649 - acc: 0.3926     \n",
      "Epoch 18/20\n",
      "135/135 [==============================] - 0s - loss: 1.2549 - acc: 0.4148     \n",
      "Epoch 19/20\n",
      "135/135 [==============================] - 0s - loss: 1.2579 - acc: 0.4000     \n",
      "Epoch 20/20\n",
      "135/135 [==============================] - 0s - loss: 1.2670 - acc: 0.4000     \n"
     ]
    }
   ],
   "source": [
    "early_stopping = EarlyStopping(monitor='val_loss', mode='auto', patience=20)\n",
    "\n",
    "model.fit([x_train,tweet_train], t_train,\n",
    "          batch_size=20,\n",
    "          epochs=20,\n",
    "          shuffle=True,\n",
    "          callbacks=[early_stopping]\n",
    "          )\n",
    "model.save_weights('price_tweet_5per.h5')"
   ]
  },
  {
   "cell_type": "code",
   "execution_count": 17,
   "metadata": {
    "collapsed": true
   },
   "outputs": [],
   "source": [
    "model.load_weights('price_tweet_007_067.h5')"
   ]
  },
  {
   "cell_type": "code",
   "execution_count": 97,
   "metadata": {},
   "outputs": [
    {
     "name": "stdout",
     "output_type": "stream",
     "text": [
      "正答率:0.13\n",
      "単純正答率:0.60\n"
     ]
    }
   ],
   "source": [
    "# 正答率、準正答率（騰落）集計\n",
    "preds = model.predict([x_test,tweet_test])\n",
    "correct = 0\n",
    "semi_correct = 0\n",
    "for i in range(len(preds)):\n",
    "  pred = np.argmax(preds[i,:])\n",
    "  tar = np.argmax(t_test[i,:])\n",
    "  if pred == tar :\n",
    "    # 純粋な正解率\n",
    "    correct += 1\n",
    "  else :\n",
    "    # 上下は当たってるやつ\n",
    "    if pred+tar == 1 or pred+tar == 5 : \n",
    "      semi_correct += 1\n",
    "\n",
    "print(\"正答率:{:.2f}\".format(1.0 * correct / len(preds)))\n",
    "print(\"単純正答率:{:.2f}\".format(1.0 * (correct+semi_correct) / len(preds)))\n"
   ]
  },
  {
   "cell_type": "code",
   "execution_count": null,
   "metadata": {
    "collapsed": true
   },
   "outputs": [],
   "source": []
  }
 ],
 "metadata": {
  "kernelspec": {
   "display_name": "Python 3",
   "language": "python",
   "name": "python3"
  },
  "language_info": {
   "codemirror_mode": {
    "name": "ipython",
    "version": 3
   },
   "file_extension": ".py",
   "mimetype": "text/x-python",
   "name": "python",
   "nbconvert_exporter": "python",
   "pygments_lexer": "ipython3",
   "version": "3.5.3"
  }
 },
 "nbformat": 4,
 "nbformat_minor": 2
}

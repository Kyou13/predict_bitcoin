{
 "cells": [
  {
   "cell_type": "code",
   "execution_count": 1,
   "metadata": {
    "collapsed": true
   },
   "outputs": [],
   "source": [
    "# -*- coding:utf-8 -*-\n",
    "import poloniex\n",
    "import time\n",
    "import json\n",
    "\n",
    "# poloniex API\n",
    "polo = poloniex.Poloniex()\n",
    "# 2017/12/31 AM 12:00 @JP\n",
    "#unix_time = 1514646000\n",
    "unix_time = 1514732400\n",
    "\n",
    "#4h間隔で過去180日分 UNIX時間で取得  #14400\n",
    "chart_data_btc = polo.returnChartData('USDT_BTC', period=polo.DAY, start=unix_time-polo.DAY*365, end=unix_time)\n",
    "chart_data_eth = polo.returnChartData('USDT_ETH', period=1800, start=unix_time-polo.DAY*180, end=unix_time)\n"
   ]
  },
  {
   "cell_type": "code",
   "execution_count": 2,
   "metadata": {},
   "outputs": [
    {
     "data": {
      "text/html": [
       "<div>\n",
       "<style>\n",
       "    .dataframe thead tr:only-child th {\n",
       "        text-align: right;\n",
       "    }\n",
       "\n",
       "    .dataframe thead th {\n",
       "        text-align: left;\n",
       "    }\n",
       "\n",
       "    .dataframe tbody tr th {\n",
       "        vertical-align: top;\n",
       "    }\n",
       "</style>\n",
       "<table border=\"1\" class=\"dataframe\">\n",
       "  <thead>\n",
       "    <tr style=\"text-align: right;\">\n",
       "      <th></th>\n",
       "      <th>close</th>\n",
       "      <th>date</th>\n",
       "      <th>high</th>\n",
       "      <th>low</th>\n",
       "      <th>open</th>\n",
       "      <th>quoteVolume</th>\n",
       "      <th>volume</th>\n",
       "      <th>weightedAverage</th>\n",
       "    </tr>\n",
       "  </thead>\n",
       "  <tbody>\n",
       "    <tr>\n",
       "      <th>355</th>\n",
       "      <td>13247.06419074</td>\n",
       "      <td>1513900800</td>\n",
       "      <td>15519.79447536</td>\n",
       "      <td>11362.39</td>\n",
       "      <td>15180.00000001</td>\n",
       "      <td>29968.89251945</td>\n",
       "      <td>396038503.84234</td>\n",
       "      <td>13214.98629237</td>\n",
       "    </tr>\n",
       "    <tr>\n",
       "      <th>356</th>\n",
       "      <td>13830</td>\n",
       "      <td>1513987200</td>\n",
       "      <td>14940</td>\n",
       "      <td>13000</td>\n",
       "      <td>13200.00000001</td>\n",
       "      <td>11453.33700481</td>\n",
       "      <td>162555092.92983</td>\n",
       "      <td>14192.81497275</td>\n",
       "    </tr>\n",
       "    <tr>\n",
       "      <th>357</th>\n",
       "      <td>13517.00000009</td>\n",
       "      <td>1514073600</td>\n",
       "      <td>13999</td>\n",
       "      <td>11703.13716406</td>\n",
       "      <td>13830</td>\n",
       "      <td>13389.67434668</td>\n",
       "      <td>172488515.64539</td>\n",
       "      <td>12882.20394158</td>\n",
       "    </tr>\n",
       "    <tr>\n",
       "      <th>358</th>\n",
       "      <td>13637.99999972</td>\n",
       "      <td>1514160000</td>\n",
       "      <td>14300</td>\n",
       "      <td>12702.8464126</td>\n",
       "      <td>13510.98484645</td>\n",
       "      <td>6181.97594595</td>\n",
       "      <td>83950439.713653</td>\n",
       "      <td>13579.87162157</td>\n",
       "    </tr>\n",
       "    <tr>\n",
       "      <th>359</th>\n",
       "      <td>15700.085745</td>\n",
       "      <td>1514246400</td>\n",
       "      <td>16050.65549987</td>\n",
       "      <td>13510.53958989</td>\n",
       "      <td>13637.99999972</td>\n",
       "      <td>8234.25934863</td>\n",
       "      <td>125250306.98157</td>\n",
       "      <td>15210.87710243</td>\n",
       "    </tr>\n",
       "    <tr>\n",
       "      <th>360</th>\n",
       "      <td>15370.01000001</td>\n",
       "      <td>1514332800</td>\n",
       "      <td>16500.90800028</td>\n",
       "      <td>14454</td>\n",
       "      <td>15690.00000006</td>\n",
       "      <td>8029.24523807</td>\n",
       "      <td>124139342.61595</td>\n",
       "      <td>15460.8981212</td>\n",
       "    </tr>\n",
       "    <tr>\n",
       "      <th>361</th>\n",
       "      <td>14307.3458536</td>\n",
       "      <td>1514419200</td>\n",
       "      <td>15464.07930619</td>\n",
       "      <td>13260.01051</td>\n",
       "      <td>15370.01000001</td>\n",
       "      <td>9301.91479356</td>\n",
       "      <td>130806984.96319</td>\n",
       "      <td>14062.37187355</td>\n",
       "    </tr>\n",
       "    <tr>\n",
       "      <th>362</th>\n",
       "      <td>14305.53422499</td>\n",
       "      <td>1514505600</td>\n",
       "      <td>15100</td>\n",
       "      <td>13770.00000005</td>\n",
       "      <td>14307.3458536</td>\n",
       "      <td>6966.730038</td>\n",
       "      <td>100213730.25999</td>\n",
       "      <td>14384.61512264</td>\n",
       "    </tr>\n",
       "    <tr>\n",
       "      <th>363</th>\n",
       "      <td>12351.93000029</td>\n",
       "      <td>1514592000</td>\n",
       "      <td>14365.38790685</td>\n",
       "      <td>11701.00000003</td>\n",
       "      <td>14305.53422499</td>\n",
       "      <td>12776.3452807</td>\n",
       "      <td>164673298.68738</td>\n",
       "      <td>12888.92050656</td>\n",
       "    </tr>\n",
       "    <tr>\n",
       "      <th>364</th>\n",
       "      <td>13769.34198361</td>\n",
       "      <td>1514678400</td>\n",
       "      <td>14145</td>\n",
       "      <td>12205</td>\n",
       "      <td>12390</td>\n",
       "      <td>7123.68044519</td>\n",
       "      <td>94241790.44347</td>\n",
       "      <td>13229.36804487</td>\n",
       "    </tr>\n",
       "  </tbody>\n",
       "</table>\n",
       "</div>"
      ],
      "text/plain": [
       "              close        date            high             low  \\\n",
       "355  13247.06419074  1513900800  15519.79447536        11362.39   \n",
       "356           13830  1513987200           14940           13000   \n",
       "357  13517.00000009  1514073600           13999  11703.13716406   \n",
       "358  13637.99999972  1514160000           14300   12702.8464126   \n",
       "359    15700.085745  1514246400  16050.65549987  13510.53958989   \n",
       "360  15370.01000001  1514332800  16500.90800028           14454   \n",
       "361   14307.3458536  1514419200  15464.07930619     13260.01051   \n",
       "362  14305.53422499  1514505600           15100  13770.00000005   \n",
       "363  12351.93000029  1514592000  14365.38790685  11701.00000003   \n",
       "364  13769.34198361  1514678400           14145           12205   \n",
       "\n",
       "               open     quoteVolume           volume weightedAverage  \n",
       "355  15180.00000001  29968.89251945  396038503.84234  13214.98629237  \n",
       "356  13200.00000001  11453.33700481  162555092.92983  14192.81497275  \n",
       "357           13830  13389.67434668  172488515.64539  12882.20394158  \n",
       "358  13510.98484645   6181.97594595  83950439.713653  13579.87162157  \n",
       "359  13637.99999972   8234.25934863  125250306.98157  15210.87710243  \n",
       "360  15690.00000006   8029.24523807  124139342.61595   15460.8981212  \n",
       "361  15370.01000001   9301.91479356  130806984.96319  14062.37187355  \n",
       "362   14307.3458536     6966.730038  100213730.25999  14384.61512264  \n",
       "363  14305.53422499   12776.3452807  164673298.68738  12888.92050656  \n",
       "364           12390   7123.68044519   94241790.44347  13229.36804487  "
      ]
     },
     "execution_count": 2,
     "metadata": {},
     "output_type": "execute_result"
    }
   ],
   "source": [
    "import pandas as pd\n",
    "\n",
    "# DataFrameに変換\n",
    "df_btc = pd.DataFrame(chart_data_btc)\n",
    "df_btc.tail(10)"
   ]
  },
  {
   "cell_type": "code",
   "execution_count": 3,
   "metadata": {
    "collapsed": true
   },
   "outputs": [],
   "source": [
    "import numpy as np\n",
    "from sklearn.preprocessing import MinMaxScaler\n",
    "np.random.seed(1)\n",
    "\n",
    "# 正規化\n",
    "data_btc_ = pd.DataFrame([float(i.get('close')) for i in chart_data_btc])\n",
    "\n",
    "mss = MinMaxScaler()\n",
    "data_btc = pd.DataFrame(mss.fit_transform(data_btc_))"
   ]
  },
  {
   "cell_type": "code",
   "execution_count": 4,
   "metadata": {
    "collapsed": true
   },
   "outputs": [],
   "source": [
    "data_btc = np.array(data_btc.astype(np.float32))\n",
    "data_btc_log = np.log(data_btc_)\n",
    "data_btc_log = np.array(data_btc_log)"
   ]
  },
  {
   "cell_type": "code",
   "execution_count": 5,
   "metadata": {},
   "outputs": [
    {
     "data": {
      "image/png": "[encoded data removed]",
      "text/plain": [
       "<matplotlib.figure.Figure at 0x113392908>"
      ]
     },
     "metadata": {},
     "output_type": "display_data"
    }
   ],
   "source": [
    "from matplotlib.pylab import rcParams\n",
    "import seaborn as sns\n",
    "rcParams['figure.figsize'] = 15, 6\n",
    "import matplotlib.pyplot as plt\n",
    "\n",
    "#前日との差\n",
    "diff_btc = data_btc_log[1:] - data_btc_log[:-1]\n",
    "diff_btc *= 100\n",
    "sns.distplot(diff_btc, bins=300, kde=False)\n",
    "plt.show()"
   ]
  },
  {
   "cell_type": "code",
   "execution_count": 6,
   "metadata": {},
   "outputs": [
    {
     "name": "stdout",
     "output_type": "stream",
     "text": [
      "0.7206263976580686\n",
      "前日比\n",
      "標準偏差[%]:105.11\n",
      "標準偏差[%]:4.98\n",
      "平均[%]:0.72\n"
     ]
    }
   ],
   "source": [
    "# 標準偏差\n",
    "diff_std = np.std(diff_btc)\n",
    "diff_avg = np.average(diff_btc)\n",
    "print(diff_avg)\n",
    "\n",
    "print(\"前日比\")\n",
    "print(\"標準偏差[%]:{:.2f}\".format(np.exp(diff_std/100)*100))\n",
    "print(\"標準偏差[%]:{:.2f}\".format(diff_std))\n",
    "print(\"平均[%]:{:.2f}\".format(diff_avg))"
   ]
  },
  {
   "cell_type": "code",
   "execution_count": 7,
   "metadata": {},
   "outputs": [
    {
     "name": "stdout",
     "output_type": "stream",
     "text": [
      "Dec 31 03:13:12 @ cissan_9984 ビットコイン下げそうだけど\n",
      "どーだろ\n",
      "含み益の人は税金の関係で今日は売りづらいだろうな、、、\n",
      "\n",
      "Dec 29 04:54:26 @ cissan_9984 \n",
      "ビットコインは年始の納税換金売りとビットフライヤーFX規制を警戒していったん売り\n",
      "１８０万買い→１７６万売りのナイストレード！\n",
      "\n",
      "Dec 28 06:28:51 @ cissan_9984 \n",
      "ビットフライヤーのFX規制のお知らせ来てる！\n",
      "流動性と使いやすさ、BTCのボラを考えると現物に対して乖離5%から5%超分の乖離金額の10%徴収とかがいいのでは？\n",
      "10%乖離してると別物に見えるし、3%ぐらいだとヘッジなどに使いに… \n",
      "\n",
      "Dec 26 15:53:15 @ cissan_9984 \n",
      "USD圏との鞘も小さくなってきたし\n",
      "再始動の可能性高くなってきたのでビットコイン再度買ってみた\n",
      "\n",
      "Dec 20 23:02:35 @ cissan_9984 \n",
      "ビットコインFX市場の現物との乖離を抑えたいみたいだけど\n",
      "現物との乖離が上に５%以上あったら開いてる時は買い方からスワップ取って売り方に渡す\n",
      "下に５%以上あったら売り方からスワップ取って買い方に渡す\n",
      "これがいいんじゃないかな！\n",
      "H… \n",
      "\n",
      "Dec 18 02:44:06 @ cissan_9984 \n",
      "現渡手数料２０％とか実質禁止手数料にしないで\n",
      "現渡手数料無料で現渡までの期間１日\n",
      "売り方金利は２日分取られるようにして\n",
      "ライトニング上でできるようにする\n",
      "これでFXの鞘も小さくなって、ビットフライヤーさんも儲かって\n",
      "みんないいね！\n",
      "\n",
      "Dec 18 02:35:27 @ cissan_9984 \n",
      "ビットフライヤーのFXと現物の鞘が開くのを防ぐには\n",
      "現渡しできるようにすればいいのでは？\n",
      "それで一瞬ですべて解決\n",
      "どちらにせよ。BTCが原資産なら今の鞘の乖離は異常事態だと思う\n",
      "分岐コインの権利が無い分FXでの買いの方が劣化してるのに・・・\n",
      "\n",
      "Dec 17 05:05:55 @ cissan_9984 \n",
      "ビットフライヤーはFXに過熱規制を定めるのはまだいいとして\n",
      "健全な取引所として公平にやって欲しいな\n",
      "どちらかに懲罰スワップ0.2ぐらいかけるならそれは逆のポジションの人が受け取るべき\n",
      "普通は過熱時は売り方が支払って買い方が受け取る… \n",
      "\n",
      "Dec 17 00:19:32 @ cissan_9984 \n",
      "２００万でファイナル買い増ししたビットコイン\n",
      "寝て起きたら２２０万軽く超えてた\n",
      "世間では暴落きそうきそう言われてるけど\n",
      "現実は毎日爆上げでもう買ってから３倍になってる\n",
      "なんじゃこりゃー？\n",
      "\n",
      "Dec 16 12:26:57 @ cissan_9984 \n",
      "ビットコインバブル早く来て欲しい！\n",
      "待ちくたびれた\n",
      "もしビットコイン暴落したらスーパー大損来てオビョウキになりそ\n",
      "\n",
      "Dec 16 12:03:13 @ cissan_9984 \n",
      "懲りずにビットコインさらに買い増し増し！\n",
      "ビットコインだけでかなりのポジションになってしまった\n",
      "ビットコインバブル早く来ないかなぁ・・・\n",
      "\n",
      "Dec 15 05:25:42 @ cissan_9984 \n",
      "ビットコイン買い増し！\n",
      "これでたぶん最後の買い\n",
      "\n",
      "Dec 14 10:45:16 @ cissan_9984 \n",
      "フルインベスト状態で\n",
      "くさい株、新規携帯会社、佐川、ビットコイン、モナコイン\n",
      "の５個に集中投資\n",
      "こんなに個別に入れたのは久しぶり\n",
      "たぶんしばらく売買しないでお祈り\n",
      "\n",
      "Dec 12 00:42:23 @ cissan_9984 \n",
      "ビットフライヤーに入金したのに反映されないのがもう６日目\n",
      "振込控え見ても前回入金した時と完全に一緒だし\n",
      "サポートに問い合わせても自動返送メール以外返事無し・・・\n",
      "ヤバいのかな？\n",
      "同じような症状の人います？\n",
      "\n",
      "Dec 07 09:35:52 @ cissan_9984 \n",
      "ここでトチ狂ってビットコインをさらに買い増し！\n",
      "\n",
      "Dec 07 01:03:37 @ cissan_9984 \n",
      "仮想通貨の売買代金的に３０％を日本人が保有＆間接保有してる感じ\n",
      "ビットコインが１０００万円行く頃、日本人の仮想通貨含み益は合計１００兆円\n",
      "さらに売買上手の日本人は世界から勝ちまくるから\n",
      "投機市場を上手く育てて、海外移住されない程度… \n",
      "\n",
      "Dec 03 15:51:39 @ cissan_9984 \n",
      "ビットコインさらに買い増し\n",
      "これでパンパン\n",
      "もなコインも買い増ししたよ\n",
      "\n",
      "Dec 02 02:47:32 @ cissan_9984 \n",
      "ビットコインさらに買い増し〜\n",
      "\n",
      "Nov 30 07:13:29 @ cissan_9984 \n",
      "損切りを用意しつつ\n",
      "ビットコイン１２０万で適当買い増し\n",
      "\n",
      "Nov 30 01:45:11 @ cissan_9984 \n",
      "ビットコインまた買った\n",
      "売ったところより高い値段で・・・\n",
      "\n",
      "Nov 29 18:34:52 @ cissan_9984 \n",
      "ビットコインの税率５５％（俺の場合）きついなー\n",
      "税の公平性の面と新規産業を育てる意味でも、FXなどと同じ税率にならないかな\n",
      "利益の５５％持ってかれて、損した時はなにも無しだと７７．５％ぐらい国のためにトレードしてる感じ・・・\n",
      "\n",
      "Nov 29 17:50:52 @ cissan_9984 \n",
      "ビットコイン無念のいったん売り\n",
      "\n",
      "Nov 29 04:20:54 @ cissan_9984 \n",
      "ビットコインもう20％上がってうっひょー\n",
      "\n",
      "Nov 29 01:08:57 @ cissan_9984 \n",
      "ビットコイン１００万超えて買って\n",
      "どえらい角度のところで買ってしまったなーと思ってたら\n",
      "爆上げ止まらずにもう１０％も上がった\n",
      "とんでもねーー\n",
      "\n",
      "Nov 28 15:31:49 @ cissan_9984 \n",
      "ビットコイン余裕の１１３万円掴み\n",
      "未曾有の超高値買い増しで早くもピンチで御座います\n",
      "\n",
      "Nov 28 15:14:26 @ cissan_9984 \n",
      "ビットコインさらに買い増し\n",
      "口座の残金全部買えるだけ買ってみた\n",
      "\n",
      "Nov 28 05:49:44 @ cissan_9984 \n",
      "ビットコイン買い増し\n",
      "\n",
      "Nov 26 17:33:48 @ cissan_9984 \n",
      "ビットコインの世界最高値、俺の買いなんだけど！\n",
      "お遊び資金なのに結構なマイナス来てる・・・\n",
      "\n",
      "Nov 26 17:25:00 @ cissan_9984 \n",
      "地味にビットコインの最天井掴んだ\n",
      "\n",
      "Nov 26 17:21:33 @ cissan_9984 \n",
      "ビットコインまた買った、、\n",
      "\n",
      "Nov 26 02:26:15 @ cissan_9984 \n",
      "持ってたビットコイン99.2万でいったん売却！\n",
      "めちゃ少ないロットで利益ほぼ無い\n",
      "ゲーム的売買だけど\n",
      "\n",
      "Nov 08 05:32:48 @ cissan_9984 \n",
      "ビットコインマイニングに来年参加するネット関連会社を新規買い！\n",
      "\n"
     ]
    }
   ],
   "source": [
    "import os\n",
    "import collections\n",
    "import re\n",
    "\n",
    "# directory以下の全ファイル取得\n",
    "def get_all_files(directory):\n",
    "    for root, dirs, files in os.walk(directory):\n",
    "        for file in files:\n",
    "            # generator\n",
    "            yield os.path.join(root, file)\n",
    "            \n",
    "# 読み込み            \n",
    "def read_docment(path):\n",
    "    with open(path, 'r', encoding='utf-8', errors='ignore') as f:\n",
    "        lines = f.readlines()\n",
    "\n",
    "    return lines \n",
    "\n",
    "def trim_doc(lines,name):\n",
    "    sep_docs = collections.OrderedDict()\n",
    "    sep_doc = []\n",
    "\n",
    "    # 文章ごとに区切る\n",
    "    for s in range(len(lines)):\n",
    "        # 空白行だったら\n",
    "        if lines[s] == '\\n':\n",
    "            sep_docs[tag] = ''.join(sep_doc)\n",
    "            sep_doc = []\n",
    "\n",
    "        # 日時情報取得\n",
    "        elif lines[s][-5:-2] == \"201\":\n",
    "            day = lines[s][4:19]\n",
    "            tag = day + \" @ \" + name\n",
    "            continue\n",
    "\n",
    "        # ツイート文章\n",
    "        else :\n",
    "            # URLを除去\n",
    "            lines[s] = re.sub('https?://[\\w/:%#\\$&\\?\\(\\)~\\.=\\+\\-]+','',lines[s])\n",
    "\n",
    "        sep_doc.append(lines[s])\n",
    "    \n",
    "    return sep_docs\n",
    "\n",
    "\n",
    "for i in get_all_files('./database_test'):\n",
    "    name = i.split('/')[2][:-4]\n",
    "    raw_docs = read_docment(i) # list\n",
    "    doc = trim_doc(raw_docs,name)\n",
    "    \n",
    "    for key, val in doc.items():\n",
    "        print(key,val)"
   ]
  },
  {
   "cell_type": "code",
   "execution_count": 9,
   "metadata": {
    "collapsed": true
   },
   "outputs": [],
   "source": [
    "# onehotラベル生成　\n",
    "_t_btc = np.empty((len(data_btc),4),dtype=np.float64)\n",
    "# とりあえず閾値は1sigma\n",
    "thresh = diff_std\n",
    "\n",
    "# 棒グラフ用配列\n",
    "bar_diff_btc = np.zeros(4)\n",
    "\n",
    "for i in range(1,len(data_btc)):\n",
    "    # めっちゃ上がる\n",
    "    if diff_btc[i-1] >= thresh:  \n",
    "        _t_btc[i] = np.array([1,0,0,0])\n",
    "        bar_diff_btc[0] = bar_diff_btc[0] + 1\n",
    "    # 上がる\n",
    "    elif diff_btc[i-1] >= 0 and diff_btc[i-1] < thresh: \n",
    "        _t_btc[i] = np.array([0,1,0,0])\n",
    "        bar_diff_btc[1] = bar_diff_btc[1] + 1\n",
    "    # 下がる\n",
    "    elif diff_btc[i-1] >= -thresh and  diff_btc[i-1] < 0: \n",
    "        _t_btc[i] = np.array([0,0,1,0])\n",
    "        bar_diff_btc[2] = bar_diff_btc[2] + 1\n",
    "    # めっちゃ下がる\n",
    "    else : \n",
    "        _t_btc[i] = np.array([0,0,0,1])\n",
    "        bar_diff_btc[3] = bar_diff_btc[3] + 1"
   ]
  },
  {
   "cell_type": "code",
   "execution_count": 10,
   "metadata": {},
   "outputs": [
    {
     "data": {
      "image/png": "[encoded data removed]",
      "text/plain": [
       "<matplotlib.figure.Figure at 0x113fddc88>"
      ]
     },
     "metadata": {},
     "output_type": "display_data"
    },
    {
     "data": {
      "text/plain": [
       "array([ 49., 169., 106.,  40.])"
      ]
     },
     "execution_count": 10,
     "metadata": {},
     "output_type": "execute_result"
    }
   ],
   "source": [
    "rcParams['figure.figsize'] = 6, 4\n",
    "left = np.array([1, 2, 3, 4])\n",
    "label = [\"more Up\",\"Up\",\"Down\",\"more Down\"]\n",
    "plt.bar(left, bar_diff_btc, tick_label=label, align=\"center\",width=0.5)\n",
    "plt.show()\n",
    "\n",
    "bar_diff_btc"
   ]
  },
  {
   "cell_type": "code",
   "execution_count": 11,
   "metadata": {
    "collapsed": true
   },
   "outputs": [],
   "source": [
    "# データを入力変数xと出力変数tに切り分け\n",
    "x_btc, t_btc= [], []\n",
    "\n",
    "N = len(data_btc)\n",
    "M = 30 # 入力変数の数：直近30サンプルを使用\n",
    "for n in range(M, N):\n",
    " # 入力変数と出力変数の切り分け\n",
    " _x = data_btc[n-M: n] # 入力変数\n",
    " _t = _t_btc[n] # 出力変数\n",
    " # 計算用のリスト(x, t)に追加していく\n",
    " x_btc.append(_x)\n",
    " t_btc.append(_t)\n"
   ]
  },
  {
   "cell_type": "code",
   "execution_count": 25,
   "metadata": {},
   "outputs": [
    {
     "data": {
      "text/plain": [
       "(335, 30, 1)"
      ]
     },
     "execution_count": 25,
     "metadata": {},
     "output_type": "execute_result"
    }
   ],
   "source": [
    "x_btc.shape"
   ]
  },
  {
   "cell_type": "code",
   "execution_count": 12,
   "metadata": {
    "collapsed": true
   },
   "outputs": [],
   "source": [
    "# numpyに変換\n",
    "# x.shape : 1050,30 t.shape : 1050,1\n",
    "x_btc = np.array(x_btc)\n",
    "t_btc = np.array(t_btc)\n",
    "\n",
    "x_btc = x_btc.reshape(x_btc.shape[0], x_btc.shape[1], 1)\n",
    "N_train = int(len(x_btc) * 0.9)\n",
    "x_train, x_test = x_btc[:N_train], x_btc[N_train:]\n",
    "t_train, t_test = t_btc[:N_train], t_btc[N_train:]"
   ]
  },
  {
   "cell_type": "code",
   "execution_count": 27,
   "metadata": {},
   "outputs": [
    {
     "data": {
      "text/plain": [
       "(335, 30, 1)"
      ]
     },
     "execution_count": 27,
     "metadata": {},
     "output_type": "execute_result"
    }
   ],
   "source": [
    "x_btc.shape"
   ]
  },
  {
   "cell_type": "code",
   "execution_count": 23,
   "metadata": {},
   "outputs": [
    {
     "name": "stdout",
     "output_type": "stream",
     "text": [
      "(335, 4)\n",
      "_________________________________________________________________\n",
      "Layer (type)                 Output Shape              Param #   \n",
      "=================================================================\n",
      "lstm_6 (LSTM)                (None, 30)                3840      \n",
      "_________________________________________________________________\n",
      "dropout_6 (Dropout)          (None, 30)                0         \n",
      "_________________________________________________________________\n",
      "dense_6 (Dense)              (None, 4)                 124       \n",
      "_________________________________________________________________\n",
      "activation_3 (Activation)    (None, 4)                 0         \n",
      "=================================================================\n",
      "Total params: 3,964\n",
      "Trainable params: 3,964\n",
      "Non-trainable params: 0\n",
      "_________________________________________________________________\n"
     ]
    }
   ],
   "source": [
    "# model\n",
    "# 4分類\n",
    "from keras.models import Sequential\n",
    "from keras.layers.core import Dense, Activation, Dropout\n",
    "from keras.layers.recurrent import LSTM\n",
    "from keras.optimizers import Adam\n",
    "from keras.callbacks import EarlyStopping\n",
    "\n",
    "\n",
    "length_of_sequence = x_btc.shape[1] # 30 = M\n",
    "n_in = x_btc.shape[2]   # 学習データ（＝入力）の列数\n",
    "print(t_btc.shape)\n",
    "n_out = t_btc.shape[1]  # ラベルデータ（=出力）の列数\n",
    "\n",
    "in_out_neurons = 1\n",
    "# n_hidden: 出力次元\n",
    "n_hidden = 30\n",
    "model = Sequential()\n",
    "# return_sequenceとは、TrueにしてRNNレイヤーの毎時刻の出力を得るか、Falseにして最後の時刻のみの出力を得るか、のフラグ\n",
    "# batch_iuput_shape: ([バッチサイズ，step数，特徴の次元数])\n",
    "model.add(LSTM(units=n_hidden,\n",
    "               batch_input_shape=(None, length_of_sequence, n_in), \n",
    "               return_sequences=False\n",
    "              ))\n",
    "model.add(Dropout(0.5))\n",
    "model.add(Dense(n_out))\n",
    "model.add(Activation(\"softmax\"))\n",
    "optimizer = Adam(lr=0.001)\n",
    "model.compile(loss=\"categorical_crossentropy\", optimizer=optimizer, metrics=[\"accuracy\"]) # metrics = ['categorical_accuracy']\n",
    "\n",
    "model.summary()"
   ]
  },
  {
   "cell_type": "code",
   "execution_count": 62,
   "metadata": {},
   "outputs": [
    {
     "name": "stdout",
     "output_type": "stream",
     "text": [
      "_________________________________________________________________\n",
      "Layer (type)                 Output Shape              Param #   \n",
      "=================================================================\n",
      "price_input (InputLayer)     (None, 30, 1)             0         \n",
      "_________________________________________________________________\n",
      "lstm_10 (LSTM)               (None, 30)                3840      \n",
      "_________________________________________________________________\n",
      "dropout_7 (Dropout)          (None, 30)                0         \n",
      "_________________________________________________________________\n",
      "dense_4 (Dense)              (None, 4)                 124       \n",
      "=================================================================\n",
      "Total params: 3,964\n",
      "Trainable params: 3,964\n",
      "Non-trainable params: 0\n",
      "_________________________________________________________________\n"
     ]
    },
    {
     "name": "stderr",
     "output_type": "stream",
     "text": [
      "/Users/kyohei/.pyenv/versions/3.5.3/lib/python3.5/site-packages/ipykernel_launcher.py:22: UserWarning: Update your `Model` call to the Keras 2 API: `Model(outputs=Tensor(\"de..., inputs=Tensor(\"pr...)`\n"
     ]
    }
   ],
   "source": [
    "from keras.models import Sequential\n",
    "from keras.layers.core import Activation\n",
    "from keras.layers import Input, Dense, Dropout, concatenate, LSTM, Embedding\n",
    "from keras.models import Model\n",
    "from keras.optimizers import Adam\n",
    "from keras.callbacks import EarlyStopping\n",
    "\n",
    "length_of_sequence = x_btc.shape[1] # 30 = M\n",
    "n_in = x_btc.shape[2]   # 学習データ（＝入力）の列数\n",
    "n_out = t_btc.shape[1]  # ラベルデータ（=出力）の列数\n",
    "\n",
    "in_out_neurons = 1\n",
    "# n_hidden: 出力次元\n",
    "n_hidden = 30\n",
    "\n",
    "# LSTMモデル　作成(入力：価格)\n",
    "# batch_iuput_shape: ([バッチサイズ，step数，特徴の次元数])\n",
    "price_input = Input(shape=(length_of_sequence,n_in), name=\"price_input\")\n",
    "price_output = LSTM(units=n_hidden,batch_input_shape=(None, length_of_sequence, n_in), return_sequences=False)(price_input)\n",
    "price_output = Dropout(0.5)(price_output)\n",
    "price_output = Dense(n_out, activation=\"softmax\")(price_output)\n",
    "model = Model(input=price_input, output= price_output)\n",
    "model.compile(loss=\"categorical_crossentropy\", optimizer=\"adam\", metrics=[\"accuracy\"]) # metrics = ['categorical_accuracy']\n",
    "model.summary()"
   ]
  },
  {
   "cell_type": "markdown",
   "metadata": {
    "collapsed": true
   },
   "source": [
    "# ベクトル化したツイートを読み込み"
   ]
  },
  {
   "cell_type": "code",
   "execution_count": 35,
   "metadata": {},
   "outputs": [],
   "source": [
    "tweet_vec = np.load(\"tweet_vec.npy\")\n",
    "tweet_vec = tweet_vec[29:-1]\n",
    "\n",
    "N_train = int(len(tweet_vec) * 0.9)\n",
    "tweet_train, tweet_test = tweet_vec[:N_train], tweet_vec[N_train:]"
   ]
  },
  {
   "cell_type": "code",
   "execution_count": 36,
   "metadata": {},
   "outputs": [
    {
     "data": {
      "text/plain": [
       "(301, 400)"
      ]
     },
     "execution_count": 36,
     "metadata": {},
     "output_type": "execute_result"
    }
   ],
   "source": [
    "tweet_train.shape"
   ]
  },
  {
   "cell_type": "markdown",
   "metadata": {},
   "source": [
    "# 2入力1出力モデル"
   ]
  },
  {
   "cell_type": "code",
   "execution_count": 68,
   "metadata": {},
   "outputs": [
    {
     "name": "stdout",
     "output_type": "stream",
     "text": [
      "____________________________________________________________________________________________________\n",
      "Layer (type)                     Output Shape          Param #     Connected to                     \n",
      "====================================================================================================\n",
      "price_input (InputLayer)         (None, 30, 1)         0                                            \n",
      "____________________________________________________________________________________________________\n",
      "lstm_11 (LSTM)                   (None, 30)            3840        price_input[0][0]                \n",
      "____________________________________________________________________________________________________\n",
      "dropout_8 (Dropout)              (None, 30)            0           lstm_11[0][0]                    \n",
      "____________________________________________________________________________________________________\n",
      "twitter_input (InputLayer)       (None, 400)           0                                            \n",
      "____________________________________________________________________________________________________\n",
      "concatenate_7 (Concatenate)      (None, 430)           0           dropout_8[0][0]                  \n",
      "                                                                   twitter_input[0][0]              \n",
      "____________________________________________________________________________________________________\n",
      "main_output (Dense)              (None, 4)             1724        concatenate_7[0][0]              \n",
      "====================================================================================================\n",
      "Total params: 5,564\n",
      "Trainable params: 5,564\n",
      "Non-trainable params: 0\n",
      "____________________________________________________________________________________________________\n"
     ]
    }
   ],
   "source": [
    "from keras.models import Sequential\n",
    "from keras.layers.core import Activation\n",
    "from keras.layers import Input, Dense, Dropout, concatenate, LSTM, Embedding\n",
    "from keras.models import Model\n",
    "from keras.optimizers import Adam\n",
    "from keras.callbacks import EarlyStopping\n",
    "\n",
    "\n",
    "length_of_sequence = x_btc.shape[1] # 30 = M\n",
    "n_in = x_btc.shape[2]   # 学習データ（＝入力）の列数\n",
    "n_out = t_btc.shape[1]  # ラベルデータ（=出力）の列数\n",
    "\n",
    "in_out_neurons = 1\n",
    "# n_hidden: 出力次元\n",
    "n_hidden = 30\n",
    "\n",
    "# LSTMモデル　作成(入力：価格)\n",
    "price_input = Input(shape=(length_of_sequence, n_in), name=\"price_input\")\n",
    "price_output = LSTM(units=n_hidden,batch_input_shape=(None, length_of_sequence, n_in), return_sequences=False)(price_input)\n",
    "price_output = Dropout(0.5)(price_output)\n",
    "#price_output = Dense(n_out, activation=\"sigmoid\")(price_output)\n",
    "\n",
    "# 全結合モデル作成 (入力：ツイッター)\n",
    "twitter_input = Input(shape=(400,), dtype=\"float32\", name=\"twitter_input\")\n",
    "#twitter_output = Dense(256, activation=\"relu\")(twitter_input)\n",
    "#twitter_output = Dropout(0.5)(twitter_output)\n",
    "#twitter_output = Dense(10,activation=\"softmax\")(twitter_output)\n",
    "\n",
    "# もう少し早く連結\n",
    "x = concatenate([price_output, twitter_input])\n",
    "main_output = Dense(n_out, activation='softmax', name='main_output')(x)\n",
    "# 2つのモデルの出力を結合\n",
    "#main_output = concatenate([price_output, twitter_output])\n",
    "\n",
    "# 結合後の層\n",
    "#main_output = Dense(512, activation=\"relu\")(model_output)\n",
    "#main_output = Dense(10, activation=\"softmax\")(model_output)\n",
    "\n",
    "#model = Model(input=[price_input, twitter_input], output= [main_output, price_output, twitter_output])\n",
    "model = Model(inputs=[price_input, twitter_input], outputs= [main_output])\n",
    "\n",
    "#model.compile(loss=\"categorical_crossentropy\", optimizer=\"adam\", loss_weights=[1.0, 0.5, 0.3], metrics=[\"accuracy\"])\n",
    "model.compile(loss=\"categorical_crossentropy\", optimizer=\"adam\" ,metrics=[\"accuracy\"])\n",
    "model.summary()\n"
   ]
  },
  {
   "cell_type": "markdown",
   "metadata": {},
   "source": [
    "# 過去価格のみで予測"
   ]
  },
  {
   "cell_type": "code",
   "execution_count": 63,
   "metadata": {},
   "outputs": [
    {
     "name": "stdout",
     "output_type": "stream",
     "text": [
      "Epoch 1/20\n",
      "301/301 [==============================] - 2s - loss: 1.3739 - acc: 0.4120     \n",
      "Epoch 2/20\n",
      " 40/301 [==>...........................] - ETA: 0s - loss: 1.3441 - acc: 0.5250"
     ]
    },
    {
     "name": "stderr",
     "output_type": "stream",
     "text": [
      "/Users/kyohei/.pyenv/versions/3.5.3/lib/python3.5/site-packages/keras/callbacks.py:496: RuntimeWarning: Early stopping conditioned on metric `val_loss` which is not available. Available metrics are: acc,loss\n",
      "  (self.monitor, ','.join(list(logs.keys()))), RuntimeWarning\n"
     ]
    },
    {
     "name": "stdout",
     "output_type": "stream",
     "text": [
      "301/301 [==============================] - 1s - loss: 1.3261 - acc: 0.4651     \n",
      "Epoch 3/20\n",
      "301/301 [==============================] - 1s - loss: 1.2698 - acc: 0.4784     \n",
      "Epoch 4/20\n",
      "301/301 [==============================] - 1s - loss: 1.2428 - acc: 0.4485     \n",
      "Epoch 5/20\n",
      "301/301 [==============================] - 1s - loss: 1.2423 - acc: 0.4319     \n",
      "Epoch 6/20\n",
      "301/301 [==============================] - 1s - loss: 1.2372 - acc: 0.4352     \n",
      "Epoch 7/20\n",
      "301/301 [==============================] - 1s - loss: 1.2536 - acc: 0.4618     \n",
      "Epoch 8/20\n",
      "301/301 [==============================] - 1s - loss: 1.2221 - acc: 0.4917     \n",
      "Epoch 9/20\n",
      "301/301 [==============================] - 1s - loss: 1.2387 - acc: 0.4618     \n",
      "Epoch 10/20\n",
      "301/301 [==============================] - 1s - loss: 1.2308 - acc: 0.4850     \n",
      "Epoch 11/20\n",
      "301/301 [==============================] - 1s - loss: 1.2278 - acc: 0.4684     \n",
      "Epoch 12/20\n",
      "301/301 [==============================] - 1s - loss: 1.2342 - acc: 0.4751     \n",
      "Epoch 13/20\n",
      "301/301 [==============================] - 1s - loss: 1.2154 - acc: 0.4651     \n",
      "Epoch 14/20\n",
      "301/301 [==============================] - 1s - loss: 1.2289 - acc: 0.4684     \n",
      "Epoch 15/20\n",
      "301/301 [==============================] - 1s - loss: 1.2271 - acc: 0.4751     \n",
      "Epoch 16/20\n",
      "301/301 [==============================] - 1s - loss: 1.2222 - acc: 0.4684     \n",
      "Epoch 17/20\n",
      "301/301 [==============================] - 1s - loss: 1.2415 - acc: 0.4718     \n",
      "Epoch 18/20\n",
      "301/301 [==============================] - 1s - loss: 1.2193 - acc: 0.4751     \n",
      "Epoch 19/20\n",
      "301/301 [==============================] - 1s - loss: 1.2289 - acc: 0.4751     \n",
      "Epoch 20/20\n",
      "301/301 [==============================] - 1s - loss: 1.2286 - acc: 0.4651     \n"
     ]
    },
    {
     "data": {
      "text/plain": [
       "<keras.callbacks.History at 0x123731908>"
      ]
     },
     "execution_count": 63,
     "metadata": {},
     "output_type": "execute_result"
    }
   ],
   "source": [
    "early_stopping = EarlyStopping(monitor='val_loss', mode='auto', patience=20)\n",
    "model.fit(x_train, t_train,\n",
    "          batch_size=20,\n",
    "          epochs=20,\n",
    "          #validation_split=0.1,\n",
    "          shuffle=True,\n",
    "          callbacks=[early_stopping]\n",
    "          )"
   ]
  },
  {
   "cell_type": "markdown",
   "metadata": {},
   "source": [
    "# 過去価格＋ツイートで予測"
   ]
  },
  {
   "cell_type": "code",
   "execution_count": 69,
   "metadata": {},
   "outputs": [
    {
     "name": "stdout",
     "output_type": "stream",
     "text": [
      "Epoch 1/20\n",
      "301/301 [==============================] - 2s - loss: 1.3790 - acc: 0.4153     \n",
      "Epoch 2/20\n",
      " 40/301 [==>...........................] - ETA: 1s - loss: 1.3734 - acc: 0.3750"
     ]
    },
    {
     "name": "stderr",
     "output_type": "stream",
     "text": [
      "/Users/kyohei/.pyenv/versions/3.5.3/lib/python3.5/site-packages/keras/callbacks.py:496: RuntimeWarning: Early stopping conditioned on metric `val_loss` which is not available. Available metrics are: acc,loss\n",
      "  (self.monitor, ','.join(list(logs.keys()))), RuntimeWarning\n"
     ]
    },
    {
     "name": "stdout",
     "output_type": "stream",
     "text": [
      "301/301 [==============================] - 1s - loss: 1.3590 - acc: 0.4684     \n",
      "Epoch 3/20\n",
      "301/301 [==============================] - 1s - loss: 1.2704 - acc: 0.4751     \n",
      "Epoch 4/20\n",
      "301/301 [==============================] - 1s - loss: 1.2366 - acc: 0.4718     \n",
      "Epoch 5/20\n",
      "301/301 [==============================] - 1s - loss: 1.2224 - acc: 0.4751     \n",
      "Epoch 6/20\n",
      "301/301 [==============================] - 1s - loss: 1.2119 - acc: 0.4784     \n",
      "Epoch 7/20\n",
      "301/301 [==============================] - 1s - loss: 1.2308 - acc: 0.4651     \n",
      "Epoch 8/20\n",
      "301/301 [==============================] - 1s - loss: 1.2267 - acc: 0.4784     \n",
      "Epoch 9/20\n",
      "301/301 [==============================] - 1s - loss: 1.2258 - acc: 0.4684     \n",
      "Epoch 10/20\n",
      "301/301 [==============================] - 1s - loss: 1.2262 - acc: 0.4485     \n",
      "Epoch 11/20\n",
      "301/301 [==============================] - 1s - loss: 1.2421 - acc: 0.4684     \n",
      "Epoch 12/20\n",
      "301/301 [==============================] - 1s - loss: 1.2189 - acc: 0.4551     \n",
      "Epoch 13/20\n",
      "301/301 [==============================] - 1s - loss: 1.2251 - acc: 0.4585     \n",
      "Epoch 14/20\n",
      "301/301 [==============================] - 1s - loss: 1.2328 - acc: 0.4551     \n",
      "Epoch 15/20\n",
      "301/301 [==============================] - 1s - loss: 1.2342 - acc: 0.4751     \n",
      "Epoch 16/20\n",
      "301/301 [==============================] - 1s - loss: 1.2251 - acc: 0.4784     \n",
      "Epoch 17/20\n",
      "301/301 [==============================] - 1s - loss: 1.2184 - acc: 0.4751     \n",
      "Epoch 18/20\n",
      "301/301 [==============================] - 1s - loss: 1.2215 - acc: 0.4684     \n",
      "Epoch 19/20\n",
      "301/301 [==============================] - 1s - loss: 1.2232 - acc: 0.4751     \n",
      "Epoch 20/20\n",
      "301/301 [==============================] - 1s - loss: 1.2305 - acc: 0.4718     \n"
     ]
    },
    {
     "data": {
      "text/plain": [
       "<keras.callbacks.History at 0x124fd7c50>"
      ]
     },
     "execution_count": 69,
     "metadata": {},
     "output_type": "execute_result"
    }
   ],
   "source": [
    "early_stopping = EarlyStopping(monitor='val_loss', mode='auto', patience=20)\n",
    "\n",
    "model.fit([x_train,tweet_train], t_train,\n",
    "          batch_size=20,\n",
    "          epochs=20,\n",
    "          shuffle=True,\n",
    "          callbacks=[early_stopping]\n",
    "          )"
   ]
  },
  {
   "cell_type": "code",
   "execution_count": 72,
   "metadata": {},
   "outputs": [
    {
     "name": "stdout",
     "output_type": "stream",
     "text": [
      "正答率: 0.29411764705882354\n",
      "準正答率（騰落）: 0.5294117647058824\n"
     ]
    }
   ],
   "source": [
    "# 正答率、準正答率（騰落）集計\n",
    "preds = model.predict([x_test,tweet_test])\n",
    "correct = 0\n",
    "semi_correct = 0\n",
    "for i in range(len(preds)):\n",
    "  pred = np.argmax(preds[i,:])\n",
    "  tar = np.argmax(t_test[i,:])\n",
    "  if pred == tar :\n",
    "    # 純粋な正解率\n",
    "    correct += 1\n",
    "  else :\n",
    "    # 上下は当たってるやつ\n",
    "    if pred+tar == 1 or pred+tar == 5 : \n",
    "      semi_correct += 1\n",
    "\n",
    "print(\"正答率:\", 1.0 * correct / len(preds))\n",
    "print(\"準正答率（騰落）:\", 1.0 * (correct+semi_correct) / len(preds))\n"
   ]
  },
  {
   "cell_type": "code",
   "execution_count": 73,
   "metadata": {},
   "outputs": [
    {
     "data": {
      "text/plain": [
       "array([0.14336817, 0.45491624, 0.28399947, 0.11771618], dtype=float32)"
      ]
     },
     "execution_count": 73,
     "metadata": {},
     "output_type": "execute_result"
    }
   ],
   "source": [
    "preds[1,:]"
   ]
  },
  {
   "cell_type": "code",
   "execution_count": null,
   "metadata": {
    "collapsed": true
   },
   "outputs": [],
   "source": []
  },
  {
   "cell_type": "code",
   "execution_count": null,
   "metadata": {
    "collapsed": true
   },
   "outputs": [],
   "source": []
  }
 ],
 "metadata": {
  "kernelspec": {
   "display_name": "Python 3",
   "language": "python",
   "name": "python3"
  }
 },
 "nbformat": 4,
 "nbformat_minor": 2
}
